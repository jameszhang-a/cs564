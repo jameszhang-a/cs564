{
 "cells": [
  {
   "cell_type": "markdown",
   "source": [
    "Welcome to IPython notebook!\n",
    "--------------------------\n",
    "\n",
    "Time to get on with it and print the ceremonial `\"Hello world!`.\n",
    "\n",
    "To execute a cell, click on it, and then use SHIFT+ENTER (this will execute the contents of the cell, and move down to the next one!)\n",
    "\n",
    "There are other useful keyboard commands (see the Help menu) and the menu bar can always be used instead as well"
   ],
   "metadata": {}
  },
  {
   "cell_type": "code",
   "execution_count": 1,
   "source": [
    "print (\"Hello world!\")"
   ],
   "outputs": [
    {
     "output_type": "stream",
     "name": "stdout",
     "text": [
      "Hello world!\n"
     ]
    }
   ],
   "metadata": {}
  },
  {
   "cell_type": "markdown",
   "source": [
    "Now, for advanced users only:"
   ],
   "metadata": {}
  },
  {
   "cell_type": "code",
   "execution_count": 2,
   "source": [
    "import sys, time\r\n",
    "message = \"HELLO WORLD!\"\r\n",
    "\r\n",
    "L = len(message)\r\n",
    "for i in range(100):\r\n",
    "    time.sleep(0.1)\r\n",
    "    j = i % L\r\n",
    "    if j > 0:\r\n",
    "        sys.stdout.write(\"\\r\" + message[-j:] + \" \" + message[:L-j])\r\n",
    "    else:\r\n",
    "        sys.stdout.write(\"\\r\" + message)\r\n",
    "    sys.stdout.flush()"
   ],
   "outputs": [
    {
     "output_type": "stream",
     "name": "stdout",
     "text": [
      "LD! HELLO WOR"
     ]
    }
   ],
   "metadata": {}
  },
  {
   "cell_type": "markdown",
   "source": [
    "When we want to work with SQL easily in an Ipython notebook, we'll load the ipython-sql [extension](https://github.com/catherinedevlin/ipython-sql). \r\n",
    "\r\n",
    "If you do not have this extension installed please type \r\n",
    "~~~~\r\n",
    "pip install ipython-sql\r\n",
    "~~~~\r\n",
    "\r\n",
    "**Note: DO NOT PANIC** \r\n",
    "* Don't worry if you get (a) a big red-highlighted warning or (b) a note that the extension has already been loaded!  As long as your SQL commands work, it's loaded properly!\r\n",
    "\r\n",
    "* If you don't understand all the SQL queries... very soon, you will!"
   ],
   "metadata": {}
  },
  {
   "cell_type": "code",
   "execution_count": 3,
   "source": [
    "%load_ext sql"
   ],
   "outputs": [],
   "metadata": {}
  },
  {
   "cell_type": "markdown",
   "source": [
    "Next, we'll load an SQLite database stored as a file as follows:\n",
    "\n",
    "**NOTE: We load a file below (here, \"dataset_1.db\"), which must be in the same directory as the notebook. For this activity, make sure to download the one from Canvas!**"
   ],
   "metadata": {}
  },
  {
   "cell_type": "code",
   "execution_count": 4,
   "source": [
    "%sql sqlite:///dataset_1.db"
   ],
   "outputs": [],
   "metadata": {}
  },
  {
   "cell_type": "markdown",
   "source": [
    "Lets look at one table from the US National Oceanic and Atmospheric Administration (NOAA) Rainfall dataset- `precipitation_full`- having the following schema:\n",
    "\n",
    "> * `state_code`\n",
    "> * `station_id`\n",
    "> * `year`\n",
    "> * `month`\n",
    "> * `day`\n",
    "> * `hour`\n",
    "> * `precipitation`\n",
    "> * `flag_1`\n",
    "> * `flag_2`\n",
    "\n",
    "Each tuple in this table describes one hour of rainfall (`precipitation`- in hundredths of an inch) at one station (`station_id`) in one state (`state_code`).  Note that tuples with `hour=25` record the total rainfall for that day, and that we can ignore the values of attributes `flag_1` and `flag_2` for now.\n",
    "\n",
    "Note that you can also load an empty in-memory database using:\n",
    "\n",
    "``%sql sqlite://``\n",
    "\n",
    "Now let's try out some SQL queries!  (Don't worry, if you're new to SQL, we'll go over all the syntax in more depth next lecture)\n",
    "\n",
    "**`%sql` is used for single line SQL commands:**"
   ],
   "metadata": {}
  },
  {
   "cell_type": "code",
   "execution_count": 5,
   "source": [
    "%sql SELECT * FROM precipitation_full LIMIT 5;"
   ],
   "outputs": [
    {
     "output_type": "stream",
     "name": "stdout",
     "text": [
      " * sqlite:///dataset_1.db\n",
      "Done.\n"
     ]
    },
    {
     "output_type": "execute_result",
     "data": {
      "text/html": [
       "<table>\n",
       "    <tr>\n",
       "        <th>state_code</th>\n",
       "        <th>station_id</th>\n",
       "        <th>year</th>\n",
       "        <th>month</th>\n",
       "        <th>day</th>\n",
       "        <th>hour</th>\n",
       "        <th>precipitation</th>\n",
       "        <th>flag_1</th>\n",
       "        <th>flag_2</th>\n",
       "    </tr>\n",
       "    <tr>\n",
       "        <td>1</td>\n",
       "        <td>807</td>\n",
       "        <td>2013</td>\n",
       "        <td>9</td>\n",
       "        <td>1</td>\n",
       "        <td>1</td>\n",
       "        <td>None</td>\n",
       "        <td>[</td>\n",
       "        <td></td>\n",
       "    </tr>\n",
       "    <tr>\n",
       "        <td>1</td>\n",
       "        <td>807</td>\n",
       "        <td>2013</td>\n",
       "        <td>9</td>\n",
       "        <td>1</td>\n",
       "        <td>25</td>\n",
       "        <td>0</td>\n",
       "        <td>I</td>\n",
       "        <td></td>\n",
       "    </tr>\n",
       "    <tr>\n",
       "        <td>1</td>\n",
       "        <td>807</td>\n",
       "        <td>2013</td>\n",
       "        <td>9</td>\n",
       "        <td>30</td>\n",
       "        <td>24</td>\n",
       "        <td>None</td>\n",
       "        <td>]</td>\n",
       "        <td></td>\n",
       "    </tr>\n",
       "    <tr>\n",
       "        <td>1</td>\n",
       "        <td>807</td>\n",
       "        <td>2013</td>\n",
       "        <td>9</td>\n",
       "        <td>30</td>\n",
       "        <td>25</td>\n",
       "        <td>0</td>\n",
       "        <td>I</td>\n",
       "        <td></td>\n",
       "    </tr>\n",
       "    <tr>\n",
       "        <td>1</td>\n",
       "        <td>6303</td>\n",
       "        <td>2013</td>\n",
       "        <td>9</td>\n",
       "        <td>1</td>\n",
       "        <td>1</td>\n",
       "        <td>0</td>\n",
       "        <td>g</td>\n",
       "        <td></td>\n",
       "    </tr>\n",
       "</table>"
      ],
      "text/plain": [
       "[(1, 807, 2013, 9, 1, 1, None, '[', ''),\n",
       " (1, 807, 2013, 9, 1, 25, 0, 'I', ''),\n",
       " (1, 807, 2013, 9, 30, 24, None, ']', ''),\n",
       " (1, 807, 2013, 9, 30, 25, 0, 'I', ''),\n",
       " (1, 6303, 2013, 9, 1, 1, 0, 'g', '')]"
      ]
     },
     "metadata": {},
     "execution_count": 5
    }
   ],
   "metadata": {}
  },
  {
   "cell_type": "code",
   "execution_count": null,
   "source": [
    "%sql SELECT COUNT(*) FROM precipitation_full;"
   ],
   "outputs": [],
   "metadata": {}
  },
  {
   "cell_type": "markdown",
   "source": [
    "And **`%%sql` is used for multi-line SQL commands:**"
   ],
   "metadata": {}
  },
  {
   "cell_type": "code",
   "execution_count": 6,
   "source": [
    "%%sql\r\n",
    "SELECT SUM(p.precipitation) \r\n",
    "FROM precipitation_full p, states s \r\n",
    "WHERE p.state_code = s.code AND s.abbrev = 'CA';"
   ],
   "outputs": [
    {
     "output_type": "stream",
     "name": "stdout",
     "text": [
      " * sqlite:///dataset_1.db\n",
      "Done.\n"
     ]
    },
    {
     "output_type": "execute_result",
     "data": {
      "text/html": [
       "<table>\n",
       "    <tr>\n",
       "        <th>SUM(p.precipitation)</th>\n",
       "    </tr>\n",
       "    <tr>\n",
       "        <td>31982</td>\n",
       "    </tr>\n",
       "</table>"
      ],
      "text/plain": [
       "[(31982,)]"
      ]
     },
     "metadata": {},
     "execution_count": 6
    }
   ],
   "metadata": {}
  },
  {
   "cell_type": "markdown",
   "source": [
    "We can also work with the output of the queries we issue:"
   ],
   "metadata": {}
  },
  {
   "cell_type": "code",
   "execution_count": 7,
   "source": [
    "result = %sql SELECT * FROM states;"
   ],
   "outputs": [
    {
     "output_type": "stream",
     "name": "stdout",
     "text": [
      " * sqlite:///dataset_1.db\n",
      "Done.\n"
     ]
    }
   ],
   "metadata": {}
  },
  {
   "cell_type": "code",
   "execution_count": 8,
   "source": [
    "result.keys"
   ],
   "outputs": [
    {
     "output_type": "execute_result",
     "data": {
      "text/plain": [
       "RMKeyView(['code', 'name', 'abbrev'])"
      ]
     },
     "metadata": {},
     "execution_count": 8
    }
   ],
   "metadata": {}
  },
  {
   "cell_type": "markdown",
   "source": [
    "Note that the first row is the header row with column names!"
   ],
   "metadata": {}
  },
  {
   "cell_type": "code",
   "execution_count": 11,
   "source": [
    "type(result[1])"
   ],
   "outputs": [
    {
     "output_type": "execute_result",
     "data": {
      "text/plain": [
       "sqlalchemy.engine.row.LegacyRow"
      ]
     },
     "metadata": {},
     "execution_count": 11
    }
   ],
   "metadata": {}
  },
  {
   "cell_type": "code",
   "execution_count": 10,
   "source": [
    "result[1].name"
   ],
   "outputs": [
    {
     "output_type": "execute_result",
     "data": {
      "text/plain": [
       "'Alabama'"
      ]
     },
     "metadata": {},
     "execution_count": 10
    }
   ],
   "metadata": {}
  },
  {
   "cell_type": "markdown",
   "source": [
    "Now feel free to experiment and have fun with the dataset!"
   ],
   "metadata": {}
  }
 ],
 "metadata": {
  "kernelspec": {
   "name": "python3",
   "display_name": "Python 3.9.5 64-bit"
  },
  "language_info": {
   "codemirror_mode": {
    "name": "ipython",
    "version": 3
   },
   "file_extension": ".py",
   "mimetype": "text/x-python",
   "name": "python",
   "nbconvert_exporter": "python",
   "pygments_lexer": "ipython3",
   "version": "3.9.5"
  },
  "interpreter": {
   "hash": "63fd5069d213b44bf678585dea6b12cceca9941eaf7f819626cde1f2670de90d"
  }
 },
 "nbformat": 4,
 "nbformat_minor": 1
}