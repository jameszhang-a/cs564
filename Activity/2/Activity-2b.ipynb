{
 "cells": [
  {
   "cell_type": "markdown",
   "source": [
    "**Make sure to have a copy of the database file, \"world-db\", downloaded and in this directory for the below to work!**"
   ],
   "metadata": {}
  },
  {
   "cell_type": "code",
   "execution_count": 1,
   "source": [
    "%load_ext sql\r\n",
    "%sql sqlite:///./world-db"
   ],
   "outputs": [],
   "metadata": {
    "slideshow": {
     "slide_type": "slide"
    }
   }
  },
  {
   "cell_type": "markdown",
   "source": [
    "The database `world` has 3 tables: \n",
    "> * `City`\n",
    "> * `Country`\n",
    "> * `CountryLanguage`\n",
    "\n",
    "Recall that to find the schema of a table, we can type the following command:"
   ],
   "metadata": {}
  },
  {
   "cell_type": "code",
   "execution_count": 2,
   "source": [
    "%sql SELECT sql FROM sqlite_master ;"
   ],
   "outputs": [
    {
     "output_type": "stream",
     "name": "stdout",
     "text": [
      " * sqlite:///./world-db\n",
      "Done.\n"
     ]
    },
    {
     "output_type": "execute_result",
     "data": {
      "text/html": [
       "<table>\n",
       "    <tr>\n",
       "        <th>sql</th>\n",
       "    </tr>\n",
       "    <tr>\n",
       "        <td>CREATE TABLE `City` (<br>  `ID` int(11) NOT NULL,<br>  `Name` char(35) NOT NULL DEFAULT &#x27;&#x27;,<br>  `CountryCode` char(3) NOT NULL DEFAULT &#x27;&#x27;,<br>  `District` char(20) NOT NULL DEFAULT &#x27;&#x27;,<br>  `Population` int(11) NOT NULL DEFAULT &#x27;0&#x27;,<br>  PRIMARY KEY (`ID`),<br>  CONSTRAINT `city_ibfk_1` FOREIGN KEY (`CountryCode`) REFERENCES `Country` (`Code`)<br>)</td>\n",
       "    </tr>\n",
       "    <tr>\n",
       "        <td>None</td>\n",
       "    </tr>\n",
       "    <tr>\n",
       "        <td>CREATE TABLE `CountryLanguage` (<br>  `CountryCode` char(3) NOT NULL DEFAULT &#x27;&#x27;,<br>  `Language` char(30) NOT NULL DEFAULT &#x27;&#x27;,<br>  `IsOfficial` char(1) NOT NULL DEFAULT &#x27;F&#x27;,<br>  `Percentage` float(4,1) NOT NULL DEFAULT &#x27;0.0&#x27;,<br>  PRIMARY KEY (`CountryCode`,`Language`),<br>  CONSTRAINT `countryLanguage_ibfk_1` FOREIGN KEY (`CountryCode`) REFERENCES `Country` (`Code`)<br>)</td>\n",
       "    </tr>\n",
       "    <tr>\n",
       "        <td>None</td>\n",
       "    </tr>\n",
       "    <tr>\n",
       "        <td>CREATE TABLE `Country` (<br>  `Code` char(3) NOT NULL DEFAULT &#x27;&#x27;,<br>  `Name` char(52) NOT NULL DEFAULT &#x27;&#x27;,<br>  `Continent` char(15) NOT NULL DEFAULT &#x27;Asia&#x27;,<br>  `Region` char(26) NOT NULL DEFAULT &#x27;&#x27;,<br>  `SurfaceArea` float(10,2) NOT NULL DEFAULT &#x27;0.00&#x27;,<br>  `IndepYear` smallint(6) DEFAULT NULL,<br>  `Population` int(11) NOT NULL DEFAULT &#x27;0&#x27;,<br>  `LifeExpectancy` float(3,1) DEFAULT NULL,<br>  `GNP` float(10,2) DEFAULT NULL,<br>  `GNPOld` float(10,2) DEFAULT NULL,<br>  `LocalName` char(45) NOT NULL DEFAULT &#x27;&#x27;,<br>  `GovernmentForm` char(45) NOT NULL DEFAULT &#x27;&#x27;,<br>  `HeadOfState` char(60) DEFAULT NULL,<br>  `Capital` int(11) DEFAULT NULL,<br>  `Code2` char(2) NOT NULL DEFAULT &#x27;&#x27;,<br>  PRIMARY KEY (`Code`)<br>)</td>\n",
       "    </tr>\n",
       "    <tr>\n",
       "        <td>None</td>\n",
       "    </tr>\n",
       "    <tr>\n",
       "        <td>CREATE VIEW OfficialCountryLanguage AS<br>SELECT C.Name AS CountryName, L.Language AS Language<br>FROM CountryLanguage L, Country C<br>WHERE L.CountryCode = C.Code<br>AND L.IsOfficial = &#x27;T&#x27;</td>\n",
       "    </tr>\n",
       "    <tr>\n",
       "        <td>CREATE TABLE Author(\r<br>    authorid INTEGER PRIMARY KEY,\r<br>    name TEXT\r<br>)</td>\n",
       "    </tr>\n",
       "    <tr>\n",
       "        <td>CREATE TABLE Book(<br>  bookid INTEGER PRIMARY KEY,<br>  title TEXT,<br>  author INTEGER,<br>  FOREIGN KEY (author) REFERENCES Author(authorid)<br>    ON UPDATE SET NULL<br>    ON DELETE CASCADE<br>)</td>\n",
       "    </tr>\n",
       "</table>"
      ],
      "text/plain": [
       "[(\"CREATE TABLE `City` (\\n  `ID` int(11) NOT NULL,\\n  `Name` char(35) NOT NULL DEFAULT '',\\n  `CountryCode` char(3) NOT NULL DEFAULT '',\\n  `District` c ... (37 characters truncated) ... lation` int(11) NOT NULL DEFAULT '0',\\n  PRIMARY KEY (`ID`),\\n  CONSTRAINT `city_ibfk_1` FOREIGN KEY (`CountryCode`) REFERENCES `Country` (`Code`)\\n)\",),\n",
       " (None,),\n",
       " (\"CREATE TABLE `CountryLanguage` (\\n  `CountryCode` char(3) NOT NULL DEFAULT '',\\n  `Language` char(30) NOT NULL DEFAULT '',\\n  `IsOfficial` char(1) NO ... (64 characters truncated) ... '0.0',\\n  PRIMARY KEY (`CountryCode`,`Language`),\\n  CONSTRAINT `countryLanguage_ibfk_1` FOREIGN KEY (`CountryCode`) REFERENCES `Country` (`Code`)\\n)\",),\n",
       " (None,),\n",
       " (\"CREATE TABLE `Country` (\\n  `Code` char(3) NOT NULL DEFAULT '',\\n  `Name` char(52) NOT NULL DEFAULT '',\\n  `Continent` char(15) NOT NULL DEFAULT 'Asi ... (392 characters truncated) ... ULT '',\\n  `HeadOfState` char(60) DEFAULT NULL,\\n  `Capital` int(11) DEFAULT NULL,\\n  `Code2` char(2) NOT NULL DEFAULT '',\\n  PRIMARY KEY (`Code`)\\n)\",),\n",
       " (None,),\n",
       " (\"CREATE VIEW OfficialCountryLanguage AS\\nSELECT C.Name AS CountryName, L.Language AS Language\\nFROM CountryLanguage L, Country C\\nWHERE L.CountryCode = C.Code\\nAND L.IsOfficial = 'T'\",),\n",
       " ('CREATE TABLE Author(\\r\\n    authorid INTEGER PRIMARY KEY,\\r\\n    name TEXT\\r\\n)',),\n",
       " ('CREATE TABLE Book(\\n  bookid INTEGER PRIMARY KEY,\\n  title TEXT,\\n  author INTEGER,\\n  FOREIGN KEY (author) REFERENCES Author(authorid)\\n    ON UPDATE SET NULL\\n    ON DELETE CASCADE\\n)',)]"
      ]
     },
     "metadata": {},
     "execution_count": 2
    }
   ],
   "metadata": {}
  },
  {
   "cell_type": "markdown",
   "source": [
    "SINGLE-TABLE QUERIES\n",
    "-------------------\n",
    "\n",
    "Let's start with a simple query: what is the population of the USA?"
   ],
   "metadata": {
    "slideshow": {
     "slide_type": "slide"
    }
   }
  },
  {
   "cell_type": "code",
   "execution_count": 2,
   "source": [
    "%%sql \r\n",
    "SELECT *\r\n",
    "FROM Country \r\n",
    "WHERE Code = 'USA';"
   ],
   "outputs": [
    {
     "output_type": "stream",
     "name": "stdout",
     "text": [
      " * sqlite:///./world-db\n",
      "Done.\n"
     ]
    },
    {
     "output_type": "execute_result",
     "data": {
      "text/html": [
       "<table>\n",
       "    <tr>\n",
       "        <th>Code</th>\n",
       "        <th>Name</th>\n",
       "        <th>Continent</th>\n",
       "        <th>Region</th>\n",
       "        <th>SurfaceArea</th>\n",
       "        <th>IndepYear</th>\n",
       "        <th>Population</th>\n",
       "        <th>LifeExpectancy</th>\n",
       "        <th>GNP</th>\n",
       "        <th>GNPOld</th>\n",
       "        <th>LocalName</th>\n",
       "        <th>GovernmentForm</th>\n",
       "        <th>HeadOfState</th>\n",
       "        <th>Capital</th>\n",
       "        <th>Code2</th>\n",
       "    </tr>\n",
       "    <tr>\n",
       "        <td>USA</td>\n",
       "        <td>United States</td>\n",
       "        <td>North America</td>\n",
       "        <td>North America</td>\n",
       "        <td>9363520.0</td>\n",
       "        <td>1776</td>\n",
       "        <td>278357000</td>\n",
       "        <td>77.1</td>\n",
       "        <td>8510700.0</td>\n",
       "        <td>8110900.0</td>\n",
       "        <td>United States</td>\n",
       "        <td>Federal Republic</td>\n",
       "        <td>George W. Bush</td>\n",
       "        <td>3813</td>\n",
       "        <td>US</td>\n",
       "    </tr>\n",
       "</table>"
      ],
      "text/plain": [
       "[('USA', 'United States', 'North America', 'North America', 9363520.0, 1776, 278357000, 77.1, 8510700.0, 8110900.0, 'United States', 'Federal Republic', 'George W. Bush', 3813, 'US')]"
      ]
     },
     "metadata": {},
     "execution_count": 2
    }
   ],
   "metadata": {
    "slideshow": {
     "slide_type": "fragment"
    }
   }
  },
  {
   "cell_type": "markdown",
   "source": [
    "**Exercise #1**: write a query that returns the countries that gained independence after 1989, along with the year they gained independence."
   ],
   "metadata": {}
  },
  {
   "cell_type": "code",
   "execution_count": null,
   "source": [
    "%%sql\r\n",
    "SELECT Name, IndepYear\r\n",
    "FROM Country\r\n",
    "WHERE IndepYear > 1989"
   ],
   "outputs": [],
   "metadata": {}
  },
  {
   "cell_type": "markdown",
   "source": [
    "To return all attributes of a table, we use the `*` in the SELECT clause. For instance, the following query returns all the attributes for cities with population over 1 million in the US."
   ],
   "metadata": {
    "slideshow": {
     "slide_type": "slide"
    }
   }
  },
  {
   "cell_type": "code",
   "execution_count": null,
   "source": [
    "%%sql \r\n",
    "SELECT *\r\n",
    "FROM City\r\n",
    "WHERE Population >= 1000000 AND CountryCode = 'USA';"
   ],
   "outputs": [],
   "metadata": {
    "slideshow": {
     "slide_type": "subslide"
    }
   }
  },
  {
   "cell_type": "markdown",
   "source": [
    "Keep in mind that for constants we need to use single quotes!"
   ],
   "metadata": {}
  },
  {
   "cell_type": "markdown",
   "source": [
    "We can rename an attribute in the output schema by using the SQL command AS. For example:"
   ],
   "metadata": {}
  },
  {
   "cell_type": "code",
   "execution_count": 8,
   "source": [
    "%%sql\r\n",
    "select Name AS LargeUSACity\r\n",
    "FROM City\r\n",
    "WHERE Population >= 1000000 AND CountryCode = 'USA';"
   ],
   "outputs": [
    {
     "output_type": "stream",
     "name": "stdout",
     "text": [
      " * sqlite:///./world-db\n",
      "Done.\n"
     ]
    },
    {
     "output_type": "execute_result",
     "data": {
      "text/html": [
       "<table>\n",
       "    <tr>\n",
       "        <th>LargeUSACity</th>\n",
       "    </tr>\n",
       "    <tr>\n",
       "        <td>New York</td>\n",
       "    </tr>\n",
       "    <tr>\n",
       "        <td>Los Angeles</td>\n",
       "    </tr>\n",
       "    <tr>\n",
       "        <td>Chicago</td>\n",
       "    </tr>\n",
       "    <tr>\n",
       "        <td>Houston</td>\n",
       "    </tr>\n",
       "    <tr>\n",
       "        <td>Philadelphia</td>\n",
       "    </tr>\n",
       "    <tr>\n",
       "        <td>Phoenix</td>\n",
       "    </tr>\n",
       "    <tr>\n",
       "        <td>San Diego</td>\n",
       "    </tr>\n",
       "    <tr>\n",
       "        <td>Dallas</td>\n",
       "    </tr>\n",
       "    <tr>\n",
       "        <td>San Antonio</td>\n",
       "    </tr>\n",
       "</table>"
      ],
      "text/plain": [
       "[('New York',),\n",
       " ('Los Angeles',),\n",
       " ('Chicago',),\n",
       " ('Houston',),\n",
       " ('Philadelphia',),\n",
       " ('Phoenix',),\n",
       " ('San Diego',),\n",
       " ('Dallas',),\n",
       " ('San Antonio',)]"
      ]
     },
     "metadata": {},
     "execution_count": 8
    }
   ],
   "metadata": {}
  },
  {
   "cell_type": "markdown",
   "source": [
    "It is possible to also perform arithmetic operations inside the SELECT clause. For example, to return the population in millions, we can use division."
   ],
   "metadata": {}
  },
  {
   "cell_type": "code",
   "execution_count": null,
   "source": [
    "%%sql\r\n",
    "SELECT Name, Population / 1000000\r\n",
    "FROM City\r\n",
    "WHERE Population >= 1000000 AND CountryCode = 'USA';"
   ],
   "outputs": [],
   "metadata": {}
  },
  {
   "cell_type": "markdown",
   "source": [
    "Observe that division here behaves as integer division. If we want to get a float value, we can rewrite the above query (similar to type casting):"
   ],
   "metadata": {}
  },
  {
   "cell_type": "code",
   "execution_count": null,
   "source": [
    "%%sql\r\n",
    "SELECT Name, Population / 1000000.0\r\n",
    "FROM City\r\n",
    "WHERE Population >= 1000000 AND CountryCode = 'USA';\r\n"
   ],
   "outputs": [],
   "metadata": {}
  },
  {
   "cell_type": "markdown",
   "source": [
    "Let's do some pattern matching! Find the countries that have a form of goverment that contains the word monarchy"
   ],
   "metadata": {}
  },
  {
   "cell_type": "code",
   "execution_count": null,
   "source": [
    "%%sql\r\n",
    "SELECT Name, GovernmentForm\r\n",
    "FROM Country\r\n",
    "WHERE GovernmentForm LIKE '%monarchy%';"
   ],
   "outputs": [],
   "metadata": {}
  },
  {
   "cell_type": "markdown",
   "source": [
    "Next, suppose that we want to find out all the different forms a government. Let's try the following:"
   ],
   "metadata": {}
  },
  {
   "cell_type": "code",
   "execution_count": null,
   "source": [
    "%%sql\r\n",
    "SELECT GovernmentForm\r\n",
    "FROM Country ;"
   ],
   "outputs": [],
   "metadata": {}
  },
  {
   "cell_type": "markdown",
   "source": [
    "The above query did not return the desired result, because it keeps a separate copy for each occurrence of the same value in the table. To remove the duplicates, we simply need to add the DISTINCT keyword."
   ],
   "metadata": {}
  },
  {
   "cell_type": "code",
   "execution_count": null,
   "source": [
    "%%sql\r\n",
    "SELECT DISTINCT GovernmentForm\r\n",
    "FROM Country ;"
   ],
   "outputs": [],
   "metadata": {}
  },
  {
   "cell_type": "markdown",
   "source": [
    "We can use ORDER BY to order the city population by decreasing population."
   ],
   "metadata": {}
  },
  {
   "cell_type": "code",
   "execution_count": 9,
   "source": [
    "%%sql\r\n",
    "SELECT Name, Population/1000000.0 AS Pop\r\n",
    "FROM City\r\n",
    "WHERE Population >= '1000000'AND CountryCode = 'USA'\r\n",
    "ORDER BY Pop DESC;"
   ],
   "outputs": [
    {
     "output_type": "stream",
     "name": "stdout",
     "text": [
      " * sqlite:///./world-db\n",
      "Done.\n"
     ]
    },
    {
     "output_type": "execute_result",
     "data": {
      "text/html": [
       "<table>\n",
       "    <tr>\n",
       "        <th>Name</th>\n",
       "        <th>Pop</th>\n",
       "    </tr>\n",
       "    <tr>\n",
       "        <td>New York</td>\n",
       "        <td>8.008278</td>\n",
       "    </tr>\n",
       "    <tr>\n",
       "        <td>Los Angeles</td>\n",
       "        <td>3.69482</td>\n",
       "    </tr>\n",
       "    <tr>\n",
       "        <td>Chicago</td>\n",
       "        <td>2.896016</td>\n",
       "    </tr>\n",
       "    <tr>\n",
       "        <td>Houston</td>\n",
       "        <td>1.953631</td>\n",
       "    </tr>\n",
       "    <tr>\n",
       "        <td>Philadelphia</td>\n",
       "        <td>1.51755</td>\n",
       "    </tr>\n",
       "    <tr>\n",
       "        <td>Phoenix</td>\n",
       "        <td>1.321045</td>\n",
       "    </tr>\n",
       "    <tr>\n",
       "        <td>San Diego</td>\n",
       "        <td>1.2234</td>\n",
       "    </tr>\n",
       "    <tr>\n",
       "        <td>Dallas</td>\n",
       "        <td>1.18858</td>\n",
       "    </tr>\n",
       "    <tr>\n",
       "        <td>San Antonio</td>\n",
       "        <td>1.144646</td>\n",
       "    </tr>\n",
       "</table>"
      ],
      "text/plain": [
       "[('New York', 8.008278),\n",
       " ('Los Angeles', 3.69482),\n",
       " ('Chicago', 2.896016),\n",
       " ('Houston', 1.953631),\n",
       " ('Philadelphia', 1.51755),\n",
       " ('Phoenix', 1.321045),\n",
       " ('San Diego', 1.2234),\n",
       " ('Dallas', 1.18858),\n",
       " ('San Antonio', 1.144646)]"
      ]
     },
     "metadata": {},
     "execution_count": 9
    }
   ],
   "metadata": {}
  },
  {
   "cell_type": "markdown",
   "source": [
    "LIMIT is very useful if we want to look at only a few rows of a table."
   ],
   "metadata": {}
  },
  {
   "cell_type": "code",
   "execution_count": 10,
   "source": [
    "%%sql\r\n",
    "SELECT *\r\n",
    "FROM City\r\n",
    "ORDER BY Population DESC\r\n",
    "LIMIT 3;"
   ],
   "outputs": [
    {
     "output_type": "stream",
     "name": "stdout",
     "text": [
      " * sqlite:///./world-db\n",
      "Done.\n"
     ]
    },
    {
     "output_type": "execute_result",
     "data": {
      "text/html": [
       "<table>\n",
       "    <tr>\n",
       "        <th>ID</th>\n",
       "        <th>Name</th>\n",
       "        <th>CountryCode</th>\n",
       "        <th>District</th>\n",
       "        <th>Population</th>\n",
       "    </tr>\n",
       "    <tr>\n",
       "        <td>1024</td>\n",
       "        <td>Mumbai (Bombay)</td>\n",
       "        <td>IND</td>\n",
       "        <td>Maharashtra</td>\n",
       "        <td>10500000</td>\n",
       "    </tr>\n",
       "    <tr>\n",
       "        <td>2331</td>\n",
       "        <td>Seoul</td>\n",
       "        <td>KOR</td>\n",
       "        <td>Seoul</td>\n",
       "        <td>9981619</td>\n",
       "    </tr>\n",
       "    <tr>\n",
       "        <td>206</td>\n",
       "        <td>S�o Paulo</td>\n",
       "        <td>BRA</td>\n",
       "        <td>S�o Paulo</td>\n",
       "        <td>9968485</td>\n",
       "    </tr>\n",
       "</table>"
      ],
      "text/plain": [
       "[(1024, 'Mumbai (Bombay)', 'IND', 'Maharashtra', 10500000),\n",
       " (2331, 'Seoul', 'KOR', 'Seoul', 9981619),\n",
       " (206, 'S�o Paulo', 'BRA', 'S�o Paulo', 9968485)]"
      ]
     },
     "metadata": {},
     "execution_count": 10
    }
   ],
   "metadata": {}
  },
  {
   "cell_type": "markdown",
   "source": [
    "**Exercise #2**: write a query that returns the two most populous cities in the US."
   ],
   "metadata": {}
  },
  {
   "cell_type": "code",
   "execution_count": 13,
   "source": [
    "%%sql\r\n",
    "SELECT * \r\n",
    "FROM City\r\n",
    "WHERE CountryCode = 'USA'\r\n",
    "ORDER BY Population DESC\r\n",
    "LIMIT 2"
   ],
   "outputs": [
    {
     "output_type": "stream",
     "name": "stdout",
     "text": [
      " * sqlite:///./world-db\n",
      "Done.\n"
     ]
    },
    {
     "output_type": "execute_result",
     "data": {
      "text/html": [
       "<table>\n",
       "    <tr>\n",
       "        <th>ID</th>\n",
       "        <th>Name</th>\n",
       "        <th>CountryCode</th>\n",
       "        <th>District</th>\n",
       "        <th>Population</th>\n",
       "    </tr>\n",
       "    <tr>\n",
       "        <td>3793</td>\n",
       "        <td>New York</td>\n",
       "        <td>USA</td>\n",
       "        <td>New York</td>\n",
       "        <td>8008278</td>\n",
       "    </tr>\n",
       "    <tr>\n",
       "        <td>3794</td>\n",
       "        <td>Los Angeles</td>\n",
       "        <td>USA</td>\n",
       "        <td>California</td>\n",
       "        <td>3694820</td>\n",
       "    </tr>\n",
       "</table>"
      ],
      "text/plain": [
       "[(3793, 'New York', 'USA', 'New York', 8008278),\n",
       " (3794, 'Los Angeles', 'USA', 'California', 3694820)]"
      ]
     },
     "metadata": {},
     "execution_count": 13
    }
   ],
   "metadata": {}
  },
  {
   "cell_type": "markdown",
   "source": [
    "MULTI-TABLE QUERIES\n",
    "---------------------\n",
    "\n",
    "What are the names of all countries that speak Greek? To answer this question, we need to combine information from two tables by *joining* them."
   ],
   "metadata": {}
  },
  {
   "cell_type": "code",
   "execution_count": 6,
   "source": [
    "%%sql\r\n",
    "SELECT Country.Name\r\n",
    "FROM Country, CountryLanguage\r\n",
    "WHERE Country.Code = CountryLanguage.CountryCode\r\n",
    "AND CountryLanguage.Language = 'Greek';"
   ],
   "outputs": [
    {
     "output_type": "stream",
     "name": "stdout",
     "text": [
      " * sqlite:///./world-db\n",
      "Done.\n"
     ]
    },
    {
     "output_type": "execute_result",
     "data": {
      "text/html": [
       "<table>\n",
       "    <tr>\n",
       "        <th>Name</th>\n",
       "    </tr>\n",
       "    <tr>\n",
       "        <td>Albania</td>\n",
       "    </tr>\n",
       "    <tr>\n",
       "        <td>Australia</td>\n",
       "    </tr>\n",
       "    <tr>\n",
       "        <td>Cyprus</td>\n",
       "    </tr>\n",
       "    <tr>\n",
       "        <td>Germany</td>\n",
       "    </tr>\n",
       "    <tr>\n",
       "        <td>Greece</td>\n",
       "    </tr>\n",
       "</table>"
      ],
      "text/plain": [
       "[('Albania',), ('Australia',), ('Cyprus',), ('Germany',), ('Greece',)]"
      ]
     },
     "metadata": {},
     "execution_count": 6
    }
   ],
   "metadata": {}
  },
  {
   "cell_type": "markdown",
   "source": [
    "Notice how we need to specify the table that each attribute comes from. Another way to write the above query:"
   ],
   "metadata": {}
  },
  {
   "cell_type": "code",
   "execution_count": 7,
   "source": [
    "%%sql\r\n",
    "SELECT Name\r\n",
    "FROM Country C, CountryLanguage L\r\n",
    "WHERE C.Code = L.CountryCode\r\n",
    "AND L.Language = 'Greek';"
   ],
   "outputs": [
    {
     "output_type": "stream",
     "name": "stdout",
     "text": [
      " * sqlite:///./world-db\n",
      "Done.\n"
     ]
    },
    {
     "output_type": "execute_result",
     "data": {
      "text/html": [
       "<table>\n",
       "    <tr>\n",
       "        <th>Name</th>\n",
       "    </tr>\n",
       "    <tr>\n",
       "        <td>Albania</td>\n",
       "    </tr>\n",
       "    <tr>\n",
       "        <td>Australia</td>\n",
       "    </tr>\n",
       "    <tr>\n",
       "        <td>Cyprus</td>\n",
       "    </tr>\n",
       "    <tr>\n",
       "        <td>Germany</td>\n",
       "    </tr>\n",
       "    <tr>\n",
       "        <td>Greece</td>\n",
       "    </tr>\n",
       "</table>"
      ],
      "text/plain": [
       "[('Albania',), ('Australia',), ('Cyprus',), ('Germany',), ('Greece',)]"
      ]
     },
     "metadata": {},
     "execution_count": 7
    }
   ],
   "metadata": {}
  },
  {
   "cell_type": "markdown",
   "source": [
    "**Exercise #3**: write a query that returns the countries that speak at least 50% Greek."
   ],
   "metadata": {}
  },
  {
   "cell_type": "code",
   "execution_count": 25,
   "source": [
    "%%sql\r\n",
    "SELECT C.Name\r\n",
    "FROM Country C, CountryLanguage L\r\n",
    "WHERE L.Language = 'Greek' \r\n",
    "AND L.Percentage >= 50\r\n",
    "AND C.Code = L.CountryCode"
   ],
   "outputs": [
    {
     "output_type": "stream",
     "name": "stdout",
     "text": [
      " * sqlite:///./world-db\n",
      "Done.\n"
     ]
    },
    {
     "output_type": "execute_result",
     "data": {
      "text/html": [
       "<table>\n",
       "    <tr>\n",
       "        <th>Name</th>\n",
       "    </tr>\n",
       "    <tr>\n",
       "        <td>Cyprus</td>\n",
       "    </tr>\n",
       "    <tr>\n",
       "        <td>Greece</td>\n",
       "    </tr>\n",
       "</table>"
      ],
      "text/plain": [
       "[('Cyprus',), ('Greece',)]"
      ]
     },
     "metadata": {},
     "execution_count": 25
    }
   ],
   "metadata": {}
  },
  {
   "cell_type": "markdown",
   "source": [
    "**Exercise #4**: write a query that returns the district of the capital of USA."
   ],
   "metadata": {}
  },
  {
   "cell_type": "code",
   "execution_count": 18,
   "source": [
    "%%sql\r\n",
    "SELECT City.District\r\n",
    "FROM Country C, City\r\n",
    "WHERE C.Code = 'USA' \r\n",
    "AND C.Capital  = City.ID"
   ],
   "outputs": [
    {
     "output_type": "stream",
     "name": "stdout",
     "text": [
      " * sqlite:///./world-db\n",
      "Done.\n"
     ]
    },
    {
     "output_type": "execute_result",
     "data": {
      "text/html": [
       "<table>\n",
       "    <tr>\n",
       "        <th>District</th>\n",
       "    </tr>\n",
       "    <tr>\n",
       "        <td>District of Columbia</td>\n",
       "    </tr>\n",
       "</table>"
      ],
      "text/plain": [
       "[('District of Columbia',)]"
      ]
     },
     "metadata": {},
     "execution_count": 18
    }
   ],
   "metadata": {}
  },
  {
   "cell_type": "markdown",
   "source": [
    "Next, we want to return the countries that speak both Greek and English."
   ],
   "metadata": {}
  },
  {
   "cell_type": "code",
   "execution_count": 28,
   "source": [
    "%%sql \r\n",
    "SELECT *\r\n",
    "FROM CountryLanguage \r\n",
    "WHERE CountryCode = 'AUS'"
   ],
   "outputs": [
    {
     "output_type": "stream",
     "name": "stdout",
     "text": [
      " * sqlite:///./world-db\n",
      "Done.\n"
     ]
    },
    {
     "output_type": "execute_result",
     "data": {
      "text/html": [
       "<table>\n",
       "    <tr>\n",
       "        <th>CountryCode</th>\n",
       "        <th>Language</th>\n",
       "        <th>IsOfficial</th>\n",
       "        <th>Percentage</th>\n",
       "    </tr>\n",
       "    <tr>\n",
       "        <td>AUS</td>\n",
       "        <td>Arabic</td>\n",
       "        <td>F</td>\n",
       "        <td>1.0</td>\n",
       "    </tr>\n",
       "    <tr>\n",
       "        <td>AUS</td>\n",
       "        <td>Canton Chinese</td>\n",
       "        <td>F</td>\n",
       "        <td>1.1</td>\n",
       "    </tr>\n",
       "    <tr>\n",
       "        <td>AUS</td>\n",
       "        <td>English</td>\n",
       "        <td>T</td>\n",
       "        <td>81.2</td>\n",
       "    </tr>\n",
       "    <tr>\n",
       "        <td>AUS</td>\n",
       "        <td>German</td>\n",
       "        <td>F</td>\n",
       "        <td>0.6</td>\n",
       "    </tr>\n",
       "    <tr>\n",
       "        <td>AUS</td>\n",
       "        <td>Greek</td>\n",
       "        <td>F</td>\n",
       "        <td>1.6</td>\n",
       "    </tr>\n",
       "    <tr>\n",
       "        <td>AUS</td>\n",
       "        <td>Italian</td>\n",
       "        <td>F</td>\n",
       "        <td>2.2</td>\n",
       "    </tr>\n",
       "    <tr>\n",
       "        <td>AUS</td>\n",
       "        <td>Serbo-Croatian</td>\n",
       "        <td>F</td>\n",
       "        <td>0.6</td>\n",
       "    </tr>\n",
       "    <tr>\n",
       "        <td>AUS</td>\n",
       "        <td>Vietnamese</td>\n",
       "        <td>F</td>\n",
       "        <td>0.8</td>\n",
       "    </tr>\n",
       "</table>"
      ],
      "text/plain": [
       "[('AUS', 'Arabic', 'F', 1.0),\n",
       " ('AUS', 'Canton Chinese', 'F', 1.1),\n",
       " ('AUS', 'English', 'T', 81.2),\n",
       " ('AUS', 'German', 'F', 0.6),\n",
       " ('AUS', 'Greek', 'F', 1.6),\n",
       " ('AUS', 'Italian', 'F', 2.2),\n",
       " ('AUS', 'Serbo-Croatian', 'F', 0.6),\n",
       " ('AUS', 'Vietnamese', 'F', 0.8)]"
      ]
     },
     "metadata": {},
     "execution_count": 28
    }
   ],
   "metadata": {}
  },
  {
   "cell_type": "code",
   "execution_count": 27,
   "source": [
    "%%sql \r\n",
    "SELECT *\r\n",
    "FROM Country \r\n",
    "WHERE Code = 'AUS';"
   ],
   "outputs": [
    {
     "output_type": "stream",
     "name": "stdout",
     "text": [
      " * sqlite:///./world-db\n",
      "Done.\n"
     ]
    },
    {
     "output_type": "execute_result",
     "data": {
      "text/html": [
       "<table>\n",
       "    <tr>\n",
       "        <th>Code</th>\n",
       "        <th>Name</th>\n",
       "        <th>Continent</th>\n",
       "        <th>Region</th>\n",
       "        <th>SurfaceArea</th>\n",
       "        <th>IndepYear</th>\n",
       "        <th>Population</th>\n",
       "        <th>LifeExpectancy</th>\n",
       "        <th>GNP</th>\n",
       "        <th>GNPOld</th>\n",
       "        <th>LocalName</th>\n",
       "        <th>GovernmentForm</th>\n",
       "        <th>HeadOfState</th>\n",
       "        <th>Capital</th>\n",
       "        <th>Code2</th>\n",
       "    </tr>\n",
       "    <tr>\n",
       "        <td>AUS</td>\n",
       "        <td>Australia</td>\n",
       "        <td>Oceania</td>\n",
       "        <td>Australia and New Zealand</td>\n",
       "        <td>7741220.0</td>\n",
       "        <td>1901</td>\n",
       "        <td>18886000</td>\n",
       "        <td>79.8</td>\n",
       "        <td>351182.0</td>\n",
       "        <td>392911.0</td>\n",
       "        <td>Australia</td>\n",
       "        <td>Constitutional Monarchy, Federation</td>\n",
       "        <td>Elisabeth II</td>\n",
       "        <td>135</td>\n",
       "        <td>AU</td>\n",
       "    </tr>\n",
       "</table>"
      ],
      "text/plain": [
       "[('AUS', 'Australia', 'Oceania', 'Australia and New Zealand', 7741220.0, 1901, 18886000, 79.8, 351182.0, 392911.0, 'Australia', 'Constitutional Monarchy, Federation', 'Elisabeth II', 135, 'AU')]"
      ]
     },
     "metadata": {},
     "execution_count": 27
    }
   ],
   "metadata": {}
  },
  {
   "cell_type": "code",
   "execution_count": 26,
   "source": [
    "%%sql\r\n",
    "SELECT C.Name\r\n",
    "FROM Country C, CountryLanguage L1, CountryLanguage L2\r\n",
    "WHERE C.Code = L1.CountryCode\r\n",
    "AND C.Code = L2.CountryCode\r\n",
    "AND L1.Language = 'Greek'\r\n",
    "AND L2.Language = 'English';"
   ],
   "outputs": [
    {
     "output_type": "stream",
     "name": "stdout",
     "text": [
      " * sqlite:///./world-db\n",
      "Done.\n"
     ]
    },
    {
     "output_type": "execute_result",
     "data": {
      "text/html": [
       "<table>\n",
       "    <tr>\n",
       "        <th>Name</th>\n",
       "    </tr>\n",
       "    <tr>\n",
       "        <td>Australia</td>\n",
       "    </tr>\n",
       "</table>"
      ],
      "text/plain": [
       "[('Australia',)]"
      ]
     },
     "metadata": {},
     "execution_count": 26
    }
   ],
   "metadata": {}
  },
  {
   "cell_type": "markdown",
   "source": [
    "Alternatively, we can write the above query using INTERSECT."
   ],
   "metadata": {}
  },
  {
   "cell_type": "code",
   "execution_count": null,
   "source": [
    "%%sql\r\n",
    "SELECT C.Name\r\n",
    "FROM Country C, CountryLanguage L\r\n",
    "WHERE C.Code = L.CountryCode\r\n",
    "AND L.Language = 'Greek'\r\n",
    "INTERSECT\r\n",
    "SELECT C.Name\r\n",
    "FROM Country C, CountryLanguage L\r\n",
    "WHERE C.Code = L.CountryCode\r\n",
    "AND L.Language = 'English' ;"
   ],
   "outputs": [],
   "metadata": {}
  },
  {
   "cell_type": "markdown",
   "source": [
    "Which countries have population more than 100 million and do not speak English?"
   ],
   "metadata": {}
  },
  {
   "cell_type": "code",
   "execution_count": 29,
   "source": [
    "%%sql\r\n",
    "SELECT C.Name\r\n",
    "FROM Country C\r\n",
    "WHERE C.Population >= 100000000\r\n",
    "EXCEPT\r\n",
    "SELECT C.Name\r\n",
    "FROM Country C, CountryLanguage L\r\n",
    "WHERE C.Code = L.CountryCode\r\n",
    "AND L.Language = 'English' ;"
   ],
   "outputs": [
    {
     "output_type": "stream",
     "name": "stdout",
     "text": [
      " * sqlite:///./world-db\n",
      "Done.\n"
     ]
    },
    {
     "output_type": "execute_result",
     "data": {
      "text/html": [
       "<table>\n",
       "    <tr>\n",
       "        <th>Name</th>\n",
       "    </tr>\n",
       "    <tr>\n",
       "        <td>Bangladesh</td>\n",
       "    </tr>\n",
       "    <tr>\n",
       "        <td>Brazil</td>\n",
       "    </tr>\n",
       "    <tr>\n",
       "        <td>China</td>\n",
       "    </tr>\n",
       "    <tr>\n",
       "        <td>India</td>\n",
       "    </tr>\n",
       "    <tr>\n",
       "        <td>Indonesia</td>\n",
       "    </tr>\n",
       "    <tr>\n",
       "        <td>Nigeria</td>\n",
       "    </tr>\n",
       "    <tr>\n",
       "        <td>Pakistan</td>\n",
       "    </tr>\n",
       "    <tr>\n",
       "        <td>Russian Federation</td>\n",
       "    </tr>\n",
       "</table>"
      ],
      "text/plain": [
       "[('Bangladesh',),\n",
       " ('Brazil',),\n",
       " ('China',),\n",
       " ('India',),\n",
       " ('Indonesia',),\n",
       " ('Nigeria',),\n",
       " ('Pakistan',),\n",
       " ('Russian Federation',)]"
      ]
     },
     "metadata": {},
     "execution_count": 29
    }
   ],
   "metadata": {}
  }
 ],
 "metadata": {
  "kernelspec": {
   "name": "python3",
   "display_name": "Python 3.9.5 64-bit"
  },
  "language_info": {
   "codemirror_mode": {
    "name": "ipython",
    "version": 3
   },
   "file_extension": ".py",
   "mimetype": "text/x-python",
   "name": "python",
   "nbconvert_exporter": "python",
   "pygments_lexer": "ipython3",
   "version": "3.9.5"
  },
  "interpreter": {
   "hash": "63fd5069d213b44bf678585dea6b12cceca9941eaf7f819626cde1f2670de90d"
  }
 },
 "nbformat": 4,
 "nbformat_minor": 1
}