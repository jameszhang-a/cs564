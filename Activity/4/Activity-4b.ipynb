{
 "cells": [
  {
   "cell_type": "markdown",
   "source": [
    "NULLS AND OUTER JOINS IN SQL\n",
    "-----"
   ],
   "metadata": {
    "slideshow": {
     "slide_type": "skip"
    }
   }
  },
  {
   "cell_type": "code",
   "execution_count": 5,
   "source": [
    "%load_ext sql\r\n",
    "%sql sqlite:///world-db"
   ],
   "outputs": [
    {
     "output_type": "stream",
     "name": "stdout",
     "text": [
      "The sql extension is already loaded. To reload it, use:\n",
      "  %reload_ext sql\n"
     ]
    }
   ],
   "metadata": {
    "slideshow": {
     "slide_type": "skip"
    }
   }
  },
  {
   "cell_type": "markdown",
   "source": [
    "Nulls exhibit weird behavior in SQL. For example, SQLite allows to divide a `NULL` with a 0, even though the result should mathematically be undefined."
   ],
   "metadata": {
    "collapsed": true
   }
  },
  {
   "cell_type": "code",
   "execution_count": 2,
   "source": [
    "%sql SELECT (NULL/0);"
   ],
   "outputs": [
    {
     "output_type": "stream",
     "name": "stdout",
     "text": [
      " * sqlite:///world-db\n",
      "Done.\n"
     ]
    },
    {
     "output_type": "execute_result",
     "data": {
      "text/html": [
       "<table>\n",
       "    <tr>\n",
       "        <th>(NULL/0)</th>\n",
       "    </tr>\n",
       "    <tr>\n",
       "        <td>None</td>\n",
       "    </tr>\n",
       "</table>"
      ],
      "text/plain": [
       "[(None,)]"
      ]
     },
     "metadata": {},
     "execution_count": 2
    }
   ],
   "metadata": {}
  },
  {
   "cell_type": "markdown",
   "source": [
    "In the table `Country`, many rows have `NULL` as an entry for the attribute `IndepYear`. Thus, the below query will not count *all* countries, since the ones with  `NULL` will return UNKNOWN in the comparison condition, and so will not be included in the final answer.  "
   ],
   "metadata": {}
  },
  {
   "cell_type": "code",
   "execution_count": 3,
   "source": [
    "%%sql\r\n",
    "SELECT COUNT(*)\r\n",
    "FROM Country\r\n",
    "WHERE IndepYear < 2020;"
   ],
   "outputs": [
    {
     "output_type": "stream",
     "name": "stdout",
     "text": [
      " * sqlite:///world-db\n",
      "Done.\n"
     ]
    },
    {
     "output_type": "execute_result",
     "data": {
      "text/html": [
       "<table>\n",
       "    <tr>\n",
       "        <th>COUNT(*)</th>\n",
       "    </tr>\n",
       "    <tr>\n",
       "        <td>192</td>\n",
       "    </tr>\n",
       "</table>"
      ],
      "text/plain": [
       "[(192,)]"
      ]
     },
     "metadata": {},
     "execution_count": 3
    }
   ],
   "metadata": {}
  },
  {
   "cell_type": "code",
   "execution_count": 4,
   "source": [
    "%sql SELECT COUNT(*) FROM Country;"
   ],
   "outputs": [
    {
     "output_type": "stream",
     "name": "stdout",
     "text": [
      " * sqlite:///world-db\n",
      "Done.\n"
     ]
    },
    {
     "output_type": "execute_result",
     "data": {
      "text/html": [
       "<table>\n",
       "    <tr>\n",
       "        <th>COUNT(*)</th>\n",
       "    </tr>\n",
       "    <tr>\n",
       "        <td>239</td>\n",
       "    </tr>\n",
       "</table>"
      ],
      "text/plain": [
       "[(239,)]"
      ]
     },
     "metadata": {},
     "execution_count": 4
    }
   ],
   "metadata": {}
  },
  {
   "cell_type": "markdown",
   "source": [
    "The following query does *not* count the countries with `NULL` value, since a row with `NULL` will evaluate both conditions to `UKNNOWN`, and `UNKNOWN` OR `UNKNOWN` = `UNKNOWN`."
   ],
   "metadata": {}
  },
  {
   "cell_type": "code",
   "execution_count": null,
   "source": [
    "%%sql\r\n",
    "SELECT COUNT(*)\r\n",
    "FROM Country\r\n",
    "WHERE IndepYear > 1990 OR IndepYear <= 1990 ;"
   ],
   "outputs": [],
   "metadata": {}
  },
  {
   "cell_type": "markdown",
   "source": [
    "To overcome this issue, we can use a condition that explicitly checks for `NULL`."
   ],
   "metadata": {}
  },
  {
   "cell_type": "code",
   "execution_count": null,
   "source": [
    "%%sql\r\n",
    "SELECT COUNT(*)\r\n",
    "FROM Country\r\n",
    "WHERE IndepYear > 1990 OR IndepYear <= 1990 OR IndepYear IS NULL;"
   ],
   "outputs": [],
   "metadata": {}
  },
  {
   "cell_type": "code",
   "execution_count": null,
   "source": [
    "%%sql\r\n",
    "SELECT C.Name AS Country, MAX(T.Population) AS N\r\n",
    "FROM Country C \r\n",
    "INNER JOIN  City T ON C.Code = T.CountryCode\r\n",
    "GROUP BY C.Name;"
   ],
   "outputs": [],
   "metadata": {}
  },
  {
   "cell_type": "markdown",
   "source": [
    "The above query misses countries that do not have any city in the `City` table. We can also include these countries by using a **left outer join**."
   ],
   "metadata": {}
  },
  {
   "cell_type": "code",
   "execution_count": null,
   "source": [
    "%%sql\r\n",
    "SELECT C.Name AS Country, MAX(T.Population)\r\n",
    "FROM Country C \r\n",
    "LEFT OUTER JOIN City T ON C.Code = T.CountryCode\r\n",
    "GROUP BY C.Name ;"
   ],
   "outputs": [],
   "metadata": {}
  }
 ],
 "metadata": {
  "kernelspec": {
   "name": "python3",
   "display_name": "Python 3.9.5 64-bit"
  },
  "language_info": {
   "codemirror_mode": {
    "name": "ipython",
    "version": 3
   },
   "file_extension": ".py",
   "mimetype": "text/x-python",
   "name": "python",
   "nbconvert_exporter": "python",
   "pygments_lexer": "ipython3",
   "version": "3.9.5"
  },
  "interpreter": {
   "hash": "63fd5069d213b44bf678585dea6b12cceca9941eaf7f819626cde1f2670de90d"
  }
 },
 "nbformat": 4,
 "nbformat_minor": 1
}