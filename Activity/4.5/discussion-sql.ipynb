{
 "cells": [
  {
   "cell_type": "markdown",
   "source": [
    "SQL Miscellanea\n",
    "-----"
   ],
   "metadata": {
    "slideshow": {
     "slide_type": "skip"
    }
   }
  },
  {
   "cell_type": "code",
   "execution_count": 1,
   "source": [
    "%load_ext sql\r\n",
    "%sql sqlite:///world-db"
   ],
   "outputs": [],
   "metadata": {
    "slideshow": {
     "slide_type": "skip"
    }
   }
  },
  {
   "cell_type": "markdown",
   "source": [
    "We can create views in SQL. Views are not stored as tables (materialized), but they can be used inside other SQL queries as normal tables."
   ],
   "metadata": {
    "collapsed": true
   }
  },
  {
   "cell_type": "code",
   "execution_count": 2,
   "source": [
    "%%sql\r\n",
    "DROP VIEW OfficialCountryLanguage;\r\n",
    "\r\n",
    "CREATE VIEW OfficialCountryLanguage AS\r\n",
    "SELECT C.Name AS CountryName, L.Language AS Language\r\n",
    "FROM CountryLanguage L, Country C\r\n",
    "WHERE L.CountryCode = C.Code\r\n",
    "AND L.IsOfficial = 'T' ;"
   ],
   "outputs": [
    {
     "output_type": "stream",
     "name": "stdout",
     "text": [
      " * sqlite:///world-db\n",
      "Done.\n",
      "Done.\n"
     ]
    },
    {
     "output_type": "execute_result",
     "data": {
      "text/plain": [
       "[]"
      ]
     },
     "metadata": {},
     "execution_count": 2
    }
   ],
   "metadata": {}
  },
  {
   "cell_type": "code",
   "execution_count": 3,
   "source": [
    "%sql SELECT * FROM OfficialCountryLanguage LIMIT 10;"
   ],
   "outputs": [
    {
     "output_type": "stream",
     "name": "stdout",
     "text": [
      " * sqlite:///world-db\n",
      "Done.\n"
     ]
    },
    {
     "output_type": "execute_result",
     "data": {
      "text/html": [
       "<table>\n",
       "    <tr>\n",
       "        <th>CountryName</th>\n",
       "        <th>Language</th>\n",
       "    </tr>\n",
       "    <tr>\n",
       "        <td>Aruba</td>\n",
       "        <td>Dutch</td>\n",
       "    </tr>\n",
       "    <tr>\n",
       "        <td>Afghanistan</td>\n",
       "        <td>Dari</td>\n",
       "    </tr>\n",
       "    <tr>\n",
       "        <td>Afghanistan</td>\n",
       "        <td>Pashto</td>\n",
       "    </tr>\n",
       "    <tr>\n",
       "        <td>Anguilla</td>\n",
       "        <td>English</td>\n",
       "    </tr>\n",
       "    <tr>\n",
       "        <td>Albania</td>\n",
       "        <td>Albaniana</td>\n",
       "    </tr>\n",
       "    <tr>\n",
       "        <td>Andorra</td>\n",
       "        <td>Catalan</td>\n",
       "    </tr>\n",
       "    <tr>\n",
       "        <td>Netherlands Antilles</td>\n",
       "        <td>Dutch</td>\n",
       "    </tr>\n",
       "    <tr>\n",
       "        <td>Netherlands Antilles</td>\n",
       "        <td>Papiamento</td>\n",
       "    </tr>\n",
       "    <tr>\n",
       "        <td>United Arab Emirates</td>\n",
       "        <td>Arabic</td>\n",
       "    </tr>\n",
       "    <tr>\n",
       "        <td>Argentina</td>\n",
       "        <td>Spanish</td>\n",
       "    </tr>\n",
       "</table>"
      ],
      "text/plain": [
       "[('Aruba', 'Dutch'),\n",
       " ('Afghanistan', 'Dari'),\n",
       " ('Afghanistan', 'Pashto'),\n",
       " ('Anguilla', 'English'),\n",
       " ('Albania', 'Albaniana'),\n",
       " ('Andorra', 'Catalan'),\n",
       " ('Netherlands Antilles', 'Dutch'),\n",
       " ('Netherlands Antilles', 'Papiamento'),\n",
       " ('United Arab Emirates', 'Arabic'),\n",
       " ('Argentina', 'Spanish')]"
      ]
     },
     "metadata": {},
     "execution_count": 3
    }
   ],
   "metadata": {}
  },
  {
   "cell_type": "markdown",
   "source": [
    "**COMPUTING THE LONGEST SEQUENCE OF CONSECUTIVE NUMBERS**\n",
    "\n",
    "\n",
    "In the following, we are given a table with a single column. Our goal is to compute the length of the longest sequence of consecutive numbers.\n",
    "\n",
    "We define the following table for our case:"
   ],
   "metadata": {}
  },
  {
   "cell_type": "code",
   "execution_count": 3,
   "source": [
    "%%sql\r\n",
    "DROP TABLE IF EXISTS R;\r\n",
    "CREATE TABLE R(A integer);\r\n",
    "INSERT INTO R Values (1),(2),(5),(9),(3),(10),(25);"
   ],
   "outputs": [
    {
     "output_type": "stream",
     "name": "stdout",
     "text": [
      " * sqlite:///world-db\n",
      "Done.\n",
      "Done.\n",
      "7 rows affected.\n"
     ]
    },
    {
     "output_type": "execute_result",
     "data": {
      "text/plain": [
       "[]"
      ]
     },
     "metadata": {},
     "execution_count": 3
    }
   ],
   "metadata": {}
  },
  {
   "cell_type": "markdown",
   "source": [
    "To express this query, we make use of the function `row_number`. This function returns the sequential number of a row within a table. It can be used with an `ORDER BY` clause, so that we can specify a desired order in which we want to number the rows.\n",
    "\n",
    "Let's see what happens if we use this!"
   ],
   "metadata": {}
  },
  {
   "cell_type": "code",
   "execution_count": 5,
   "source": [
    "%%sql\r\n",
    "SELECT A, (A-row_number() OVER (ORDER BY A ASC)) AS B\r\n",
    "FROM R ;"
   ],
   "outputs": [
    {
     "output_type": "stream",
     "name": "stdout",
     "text": [
      " * sqlite:///world-db\n",
      "Done.\n"
     ]
    },
    {
     "output_type": "execute_result",
     "data": {
      "text/html": [
       "<table>\n",
       "    <tr>\n",
       "        <th>A</th>\n",
       "        <th>B</th>\n",
       "    </tr>\n",
       "    <tr>\n",
       "        <td>1</td>\n",
       "        <td>0</td>\n",
       "    </tr>\n",
       "    <tr>\n",
       "        <td>2</td>\n",
       "        <td>0</td>\n",
       "    </tr>\n",
       "    <tr>\n",
       "        <td>3</td>\n",
       "        <td>0</td>\n",
       "    </tr>\n",
       "    <tr>\n",
       "        <td>5</td>\n",
       "        <td>1</td>\n",
       "    </tr>\n",
       "    <tr>\n",
       "        <td>9</td>\n",
       "        <td>4</td>\n",
       "    </tr>\n",
       "    <tr>\n",
       "        <td>10</td>\n",
       "        <td>4</td>\n",
       "    </tr>\n",
       "    <tr>\n",
       "        <td>25</td>\n",
       "        <td>18</td>\n",
       "    </tr>\n",
       "</table>"
      ],
      "text/plain": [
       "[(1, 0), (2, 0), (3, 0), (5, 1), (9, 4), (10, 4), (25, 18)]"
      ]
     },
     "metadata": {},
     "execution_count": 5
    }
   ],
   "metadata": {}
  },
  {
   "cell_type": "code",
   "execution_count": 7,
   "source": [
    "%%sql\r\n",
    "WITH num AS\r\n",
    "(SELECT A,(A - row_number() OVER (ORDER BY A)) AS B FROM R)\r\n",
    "SELECT MIN(A) AS start, MAX(A) AS end, COUNT(*) AS length\r\n",
    "FROM num\r\n",
    "GROUP BY B\r\n",
    "ORDER BY length DESC;"
   ],
   "outputs": [
    {
     "output_type": "stream",
     "name": "stdout",
     "text": [
      " * sqlite:///world-db\n",
      "Done.\n"
     ]
    },
    {
     "output_type": "execute_result",
     "data": {
      "text/html": [
       "<table>\n",
       "    <tr>\n",
       "        <th>start</th>\n",
       "        <th>end</th>\n",
       "        <th>length</th>\n",
       "    </tr>\n",
       "    <tr>\n",
       "        <td>1</td>\n",
       "        <td>3</td>\n",
       "        <td>3</td>\n",
       "    </tr>\n",
       "    <tr>\n",
       "        <td>9</td>\n",
       "        <td>10</td>\n",
       "        <td>2</td>\n",
       "    </tr>\n",
       "    <tr>\n",
       "        <td>25</td>\n",
       "        <td>25</td>\n",
       "        <td>1</td>\n",
       "    </tr>\n",
       "    <tr>\n",
       "        <td>5</td>\n",
       "        <td>5</td>\n",
       "        <td>1</td>\n",
       "    </tr>\n",
       "</table>"
      ],
      "text/plain": [
       "[(1, 3, 3), (9, 10, 2), (25, 25, 1), (5, 5, 1)]"
      ]
     },
     "metadata": {},
     "execution_count": 7
    }
   ],
   "metadata": {}
  },
  {
   "cell_type": "markdown",
   "source": [
    "**MEDIAN**\n",
    "\n",
    "In the following, we will show how one can compute the *median* of a table column using SQL. Recall that to compute the median of a (multi)set of *n* values, we first order the values; then, we return the middle number if *n* is odd, otherwise the average of the two middle numbers. We use the table R from above.\n",
    "\n",
    "We can easily compute the median using `row_number`- the query below only works for an odd numer of elements."
   ],
   "metadata": {}
  },
  {
   "cell_type": "code",
   "execution_count": 16,
   "source": [
    "%%sql\r\n",
    "WITH num AS\r\n",
    "(SELECT A, (row_number() OVER (ORDER BY A)) AS B FROM R)\r\n",
    "SELECT A\r\n",
    "FROM num\r\n",
    "WHERE B*2 = (SELECT COUNT(*) FROM num)+1;"
   ],
   "outputs": [
    {
     "output_type": "stream",
     "name": "stdout",
     "text": [
      " * sqlite:///world-db\n",
      "Done.\n"
     ]
    },
    {
     "output_type": "execute_result",
     "data": {
      "text/html": [
       "<table>\n",
       "    <tr>\n",
       "        <th>A</th>\n",
       "    </tr>\n",
       "    <tr>\n",
       "        <td>5</td>\n",
       "    </tr>\n",
       "</table>"
      ],
      "text/plain": [
       "[(5,)]"
      ]
     },
     "metadata": {},
     "execution_count": 16
    }
   ],
   "metadata": {}
  },
  {
   "cell_type": "markdown",
   "source": [
    "Next, we will see how to compute the median without using `row_number`! We will first solve a simplified version of the median problem. Let's for now assume that:\n",
    "* the number of elements is odd\n",
    "* there are no duplicate values"
   ],
   "metadata": {}
  },
  {
   "cell_type": "code",
   "execution_count": null,
   "source": [
    "%%sql\r\n",
    "SELECT X.A\r\n",
    "FROM R AS X\r\n",
    "WHERE (SELECT COUNT(*) FROM R AS X1 WHERE X.A > X1.A) \r\n",
    "= (SELECT COUNT(*) FROM R AS X2 WHERE X.A < X2.A);"
   ],
   "outputs": [],
   "metadata": {}
  },
  {
   "cell_type": "markdown",
   "source": [
    "The above solution will not work if our two assumptions do not hold (why?). Let us rewrite the query so that we can solve the general median problem."
   ],
   "metadata": {}
  },
  {
   "cell_type": "code",
   "execution_count": null,
   "source": [
    "%%sql\r\n",
    "SELECT AVG(DISTINCT X.A)\r\n",
    "FROM R AS X\r\n",
    "WHERE (SELECT COUNT(*) FROM R AS X1 WHERE X.A >= X1.A) >= (SELECT COUNT(*) FROM R AS X2 WHERE X.A < X2.A)\r\n",
    "AND (SELECT COUNT(*) FROM R AS X1 WHERE X.A > X1.A) <= (SELECT COUNT(*) FROM R AS X2 WHERE X.A <= X2.A);"
   ],
   "outputs": [],
   "metadata": {}
  },
  {
   "cell_type": "markdown",
   "source": [
    "**Paths in Graphs**\n",
    "\n",
    "We will next show how we can compute some queries on a graph. Here, we represent the graph a single relation with schema `Edge(source, target, distance)`."
   ],
   "metadata": {}
  },
  {
   "cell_type": "code",
   "execution_count": 17,
   "source": [
    "%%sql\r\n",
    "DROP TABLE IF EXISTS Edge;\r\n",
    "CREATE TABLE Edge (source integer, target integer, distance integer);\r\n",
    "INSERT INTO Edge VALUES (1,2,10),(2,3,10),(3,4,20),(4,1,30),(1,3,5); "
   ],
   "outputs": [
    {
     "output_type": "stream",
     "name": "stdout",
     "text": [
      " * sqlite:///world-db\n",
      "Done.\n",
      "Done.\n",
      "5 rows affected.\n"
     ]
    },
    {
     "output_type": "execute_result",
     "data": {
      "text/plain": [
       "[]"
      ]
     },
     "metadata": {},
     "execution_count": 17
    }
   ],
   "metadata": {}
  },
  {
   "cell_type": "markdown",
   "source": [
    "The query below computes the number of outgoing edges for each vertex."
   ],
   "metadata": {}
  },
  {
   "cell_type": "code",
   "execution_count": 28,
   "source": [
    "%%sql\r\n",
    "SELECT source, COUNT(target)\r\n",
    "FROM Edge\r\n",
    "GROUP BY source;"
   ],
   "outputs": [
    {
     "output_type": "stream",
     "name": "stdout",
     "text": [
      " * sqlite:///world-db\n",
      "Done.\n"
     ]
    },
    {
     "output_type": "execute_result",
     "data": {
      "text/html": [
       "<table>\n",
       "    <tr>\n",
       "        <th>source</th>\n",
       "        <th>COUNT(target)</th>\n",
       "    </tr>\n",
       "    <tr>\n",
       "        <td>1</td>\n",
       "        <td>2</td>\n",
       "    </tr>\n",
       "    <tr>\n",
       "        <td>2</td>\n",
       "        <td>1</td>\n",
       "    </tr>\n",
       "    <tr>\n",
       "        <td>3</td>\n",
       "        <td>1</td>\n",
       "    </tr>\n",
       "    <tr>\n",
       "        <td>4</td>\n",
       "        <td>1</td>\n",
       "    </tr>\n",
       "</table>"
      ],
      "text/plain": [
       "[(1, 2), (2, 1), (3, 1), (4, 1)]"
      ]
     },
     "metadata": {},
     "execution_count": 28
    }
   ],
   "metadata": {}
  },
  {
   "cell_type": "markdown",
   "source": [
    "Next, we want to find all the directed paths of length 2 in the graph."
   ],
   "metadata": {}
  },
  {
   "cell_type": "code",
   "execution_count": 31,
   "source": [
    "%%sql\n",
    "SELECT e1.source, e1.target, e2.target, e3.target\n",
    "FROM Edge e1, Edge e2, Edge e3\n",
    "WHERE e1.target = e2.source AND e2.target = e3.source; "
   ],
   "outputs": [
    {
     "output_type": "stream",
     "name": "stdout",
     "text": [
      " * sqlite:///world-db\n",
      "Done.\n"
     ]
    },
    {
     "output_type": "execute_result",
     "data": {
      "text/html": [
       "<table>\n",
       "    <tr>\n",
       "        <th>source</th>\n",
       "        <th>target</th>\n",
       "        <th>target_1</th>\n",
       "        <th>target_2</th>\n",
       "    </tr>\n",
       "    <tr>\n",
       "        <td>1</td>\n",
       "        <td>2</td>\n",
       "        <td>3</td>\n",
       "        <td>4</td>\n",
       "    </tr>\n",
       "    <tr>\n",
       "        <td>2</td>\n",
       "        <td>3</td>\n",
       "        <td>4</td>\n",
       "        <td>1</td>\n",
       "    </tr>\n",
       "    <tr>\n",
       "        <td>3</td>\n",
       "        <td>4</td>\n",
       "        <td>1</td>\n",
       "        <td>2</td>\n",
       "    </tr>\n",
       "    <tr>\n",
       "        <td>3</td>\n",
       "        <td>4</td>\n",
       "        <td>1</td>\n",
       "        <td>3</td>\n",
       "    </tr>\n",
       "    <tr>\n",
       "        <td>4</td>\n",
       "        <td>1</td>\n",
       "        <td>2</td>\n",
       "        <td>3</td>\n",
       "    </tr>\n",
       "    <tr>\n",
       "        <td>4</td>\n",
       "        <td>1</td>\n",
       "        <td>3</td>\n",
       "        <td>4</td>\n",
       "    </tr>\n",
       "    <tr>\n",
       "        <td>1</td>\n",
       "        <td>3</td>\n",
       "        <td>4</td>\n",
       "        <td>1</td>\n",
       "    </tr>\n",
       "</table>"
      ],
      "text/plain": [
       "[(1, 2, 3, 4),\n",
       " (2, 3, 4, 1),\n",
       " (3, 4, 1, 2),\n",
       " (3, 4, 1, 3),\n",
       " (4, 1, 2, 3),\n",
       " (4, 1, 3, 4),\n",
       " (1, 3, 4, 1)]"
      ]
     },
     "metadata": {},
     "execution_count": 31
    }
   ],
   "metadata": {}
  },
  {
   "cell_type": "markdown",
   "source": [
    "Can we also compute the distance of each path?"
   ],
   "metadata": {}
  },
  {
   "cell_type": "code",
   "execution_count": 30,
   "source": [
    "%%sql\n",
    "SELECT e1.source, e1.target, e2.target, (e1.distance+e2.distance)\n",
    "FROM Edge e1, Edge e2\n",
    "WHERE e1.target = e2.source; "
   ],
   "outputs": [
    {
     "output_type": "stream",
     "name": "stdout",
     "text": [
      " * sqlite:///world-db\n",
      "Done.\n"
     ]
    },
    {
     "output_type": "execute_result",
     "data": {
      "text/html": [
       "<table>\n",
       "    <tr>\n",
       "        <th>source</th>\n",
       "        <th>target</th>\n",
       "        <th>target_1</th>\n",
       "        <th>(e1.distance+e2.distance)</th>\n",
       "    </tr>\n",
       "    <tr>\n",
       "        <td>1</td>\n",
       "        <td>2</td>\n",
       "        <td>3</td>\n",
       "        <td>20</td>\n",
       "    </tr>\n",
       "    <tr>\n",
       "        <td>2</td>\n",
       "        <td>3</td>\n",
       "        <td>4</td>\n",
       "        <td>30</td>\n",
       "    </tr>\n",
       "    <tr>\n",
       "        <td>3</td>\n",
       "        <td>4</td>\n",
       "        <td>1</td>\n",
       "        <td>50</td>\n",
       "    </tr>\n",
       "    <tr>\n",
       "        <td>4</td>\n",
       "        <td>1</td>\n",
       "        <td>2</td>\n",
       "        <td>40</td>\n",
       "    </tr>\n",
       "    <tr>\n",
       "        <td>4</td>\n",
       "        <td>1</td>\n",
       "        <td>3</td>\n",
       "        <td>35</td>\n",
       "    </tr>\n",
       "    <tr>\n",
       "        <td>1</td>\n",
       "        <td>3</td>\n",
       "        <td>4</td>\n",
       "        <td>25</td>\n",
       "    </tr>\n",
       "</table>"
      ],
      "text/plain": [
       "[(1, 2, 3, 20),\n",
       " (2, 3, 4, 30),\n",
       " (3, 4, 1, 50),\n",
       " (4, 1, 2, 40),\n",
       " (4, 1, 3, 35),\n",
       " (1, 3, 4, 25)]"
      ]
     },
     "metadata": {},
     "execution_count": 30
    }
   ],
   "metadata": {}
  },
  {
   "cell_type": "markdown",
   "source": [
    "**A few things on recursion**\n",
    "\n",
    "SQL allows recursion in the `WITH` clause."
   ],
   "metadata": {}
  },
  {
   "cell_type": "code",
   "execution_count": 2,
   "source": [
    "%%sql\n",
    "WITH RECURSIVE\n",
    "  cnt(x) AS (VALUES(1) UNION ALL SELECT x+1 FROM cnt WHERE x<5)\n",
    "SELECT x FROM cnt;"
   ],
   "outputs": [
    {
     "output_type": "stream",
     "name": "stdout",
     "text": [
      " * sqlite:///world-db\n",
      "Done.\n"
     ]
    },
    {
     "output_type": "execute_result",
     "data": {
      "text/html": [
       "<table>\n",
       "    <tr>\n",
       "        <th>x</th>\n",
       "    </tr>\n",
       "    <tr>\n",
       "        <td>1</td>\n",
       "    </tr>\n",
       "    <tr>\n",
       "        <td>2</td>\n",
       "    </tr>\n",
       "    <tr>\n",
       "        <td>3</td>\n",
       "    </tr>\n",
       "    <tr>\n",
       "        <td>4</td>\n",
       "    </tr>\n",
       "    <tr>\n",
       "        <td>5</td>\n",
       "    </tr>\n",
       "</table>"
      ],
      "text/plain": [
       "[(1,), (2,), (3,), (4,), (5,)]"
      ]
     },
     "metadata": {},
     "execution_count": 2
    }
   ],
   "metadata": {}
  },
  {
   "cell_type": "code",
   "execution_count": 39,
   "source": [
    "%%sql\n",
    "WITH RECURSIVE\n",
    "    factorial(n,x) AS (\n",
    "        SELECT 1, 1\n",
    "        UNION\n",
    "        SELECT n+1, (n+1)*x FROM factorial WHERE n < 5)\n",
    "SELECT * FROM factorial ;"
   ],
   "outputs": [
    {
     "output_type": "stream",
     "name": "stdout",
     "text": [
      " * sqlite:///world-db\n",
      "Done.\n"
     ]
    },
    {
     "output_type": "execute_result",
     "data": {
      "text/html": [
       "<table>\n",
       "    <tr>\n",
       "        <th>n</th>\n",
       "        <th>x</th>\n",
       "    </tr>\n",
       "    <tr>\n",
       "        <td>1</td>\n",
       "        <td>1</td>\n",
       "    </tr>\n",
       "    <tr>\n",
       "        <td>2</td>\n",
       "        <td>2</td>\n",
       "    </tr>\n",
       "    <tr>\n",
       "        <td>3</td>\n",
       "        <td>6</td>\n",
       "    </tr>\n",
       "    <tr>\n",
       "        <td>4</td>\n",
       "        <td>24</td>\n",
       "    </tr>\n",
       "    <tr>\n",
       "        <td>5</td>\n",
       "        <td>120</td>\n",
       "    </tr>\n",
       "</table>"
      ],
      "text/plain": [
       "[(1, 1), (2, 2), (3, 6), (4, 24), (5, 120)]"
      ]
     },
     "metadata": {},
     "execution_count": 39
    }
   ],
   "metadata": {}
  },
  {
   "cell_type": "code",
   "execution_count": null,
   "source": [],
   "outputs": [],
   "metadata": {}
  }
 ],
 "metadata": {
  "kernelspec": {
   "name": "python3",
   "display_name": "Python 3.9.5 64-bit"
  },
  "language_info": {
   "codemirror_mode": {
    "name": "ipython",
    "version": 3
   },
   "file_extension": ".py",
   "mimetype": "text/x-python",
   "name": "python",
   "nbconvert_exporter": "python",
   "pygments_lexer": "ipython3",
   "version": "3.9.5"
  },
  "interpreter": {
   "hash": "63fd5069d213b44bf678585dea6b12cceca9941eaf7f819626cde1f2670de90d"
  }
 },
 "nbformat": 4,
 "nbformat_minor": 1
}