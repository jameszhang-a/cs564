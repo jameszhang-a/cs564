{
 "cells": [
  {
   "cell_type": "markdown",
   "metadata": {
    "slideshow": {
     "slide_type": "skip"
    }
   },
   "source": [
    "Aggregation in SQL\n",
    "-----"
   ]
  },
  {
   "cell_type": "code",
   "execution_count": 1,
   "metadata": {
    "slideshow": {
     "slide_type": "skip"
    }
   },
   "outputs": [],
   "source": [
    "%load_ext sql\n",
    "%sql sqlite:///world-db"
   ]
  },
  {
   "cell_type": "markdown",
   "metadata": {},
   "source": [
    "Let's ask some SQL queries over the `world` dataset using aggregation. \n",
    "Our first query finds the average population of countries in Europe."
   ]
  },
  {
   "cell_type": "code",
   "execution_count": 3,
   "metadata": {},
   "outputs": [
    {
     "name": "stdout",
     "output_type": "stream",
     "text": [
      " * sqlite:///world-db\n",
      "Done.\n"
     ]
    },
    {
     "data": {
      "text/html": [
       "<table>\n",
       "    <tr>\n",
       "        <th>AVG(Population)</th>\n",
       "        <th>Name</th>\n",
       "    </tr>\n",
       "    <tr>\n",
       "        <td>15871186.956521738</td>\n",
       "        <td>Albania</td>\n",
       "    </tr>\n",
       "</table>"
      ],
      "text/plain": [
       "[(15871186.956521738, 'Albania')]"
      ]
     },
     "execution_count": 3,
     "metadata": {},
     "output_type": "execute_result"
    }
   ],
   "source": [
    "%%sql\n",
    "SELECT AVG(Population), Name\n",
    "FROM Country\n",
    "WHERE Continent = 'Europe';"
   ]
  },
  {
   "cell_type": "markdown",
   "metadata": {},
   "source": [
    "The next query outputs the number of countries in Europe."
   ]
  },
  {
   "cell_type": "code",
   "execution_count": 4,
   "metadata": {},
   "outputs": [
    {
     "name": "stdout",
     "output_type": "stream",
     "text": [
      " * sqlite:///world-db\n",
      "Done.\n"
     ]
    },
    {
     "data": {
      "text/html": [
       "<table>\n",
       "    <tr>\n",
       "        <th>COUNT(*)</th>\n",
       "    </tr>\n",
       "    <tr>\n",
       "        <td>46</td>\n",
       "    </tr>\n",
       "</table>"
      ],
      "text/plain": [
       "[(46,)]"
      ]
     },
     "execution_count": 4,
     "metadata": {},
     "output_type": "execute_result"
    }
   ],
   "source": [
    "%%sql\n",
    "SELECT COUNT(*) \n",
    "FROM Country\n",
    "WHERE Continent = 'Europe';"
   ]
  },
  {
   "cell_type": "markdown",
   "metadata": {},
   "source": [
    "Next, we want to compute the number of languages in the `CountryLanguage` table. Here we want to use `DISTINCT` inside the count, otherwise languages that are spoken in multiple countries will be counted multiple times!"
   ]
  },
  {
   "cell_type": "code",
   "execution_count": 5,
   "metadata": {},
   "outputs": [
    {
     "name": "stdout",
     "output_type": "stream",
     "text": [
      " * sqlite:///world-db\n",
      "Done.\n"
     ]
    },
    {
     "data": {
      "text/html": [
       "<table>\n",
       "    <tr>\n",
       "        <th>COUNT(DISTINCT Language)</th>\n",
       "    </tr>\n",
       "    <tr>\n",
       "        <td>457</td>\n",
       "    </tr>\n",
       "</table>"
      ],
      "text/plain": [
       "[(457,)]"
      ]
     },
     "execution_count": 5,
     "metadata": {},
     "output_type": "execute_result"
    }
   ],
   "source": [
    "%%sql\n",
    "SELECT COUNT(DISTINCT Language)\n",
    "FROM CountryLanguage ;"
   ]
  },
  {
   "cell_type": "markdown",
   "metadata": {},
   "source": [
    "How can we find the name *and* population of the country with the max population in Europe? Notice that finding only the max population is easy, but if we want to output the country as well, it gets a bit tricky. We can write a nested query to solve this problem in an elegant way!"
   ]
  },
  {
   "cell_type": "code",
   "execution_count": 6,
   "metadata": {},
   "outputs": [
    {
     "name": "stdout",
     "output_type": "stream",
     "text": [
      " * sqlite:///world-db\n",
      "Done.\n"
     ]
    },
    {
     "data": {
      "text/html": [
       "<table>\n",
       "    <tr>\n",
       "        <th>Name</th>\n",
       "        <th>Population</th>\n",
       "    </tr>\n",
       "    <tr>\n",
       "        <td>Russian Federation</td>\n",
       "        <td>146934000</td>\n",
       "    </tr>\n",
       "</table>"
      ],
      "text/plain": [
       "[('Russian Federation', 146934000)]"
      ]
     },
     "execution_count": 6,
     "metadata": {},
     "output_type": "execute_result"
    }
   ],
   "source": [
    "%%sql\n",
    "SELECT Name, Population\n",
    "FROM Country\n",
    "WHERE Population = \n",
    "  (SELECT MAX(Population)\n",
    "   FROM Country\n",
    "   WHERE Continent = 'Europe');"
   ]
  },
  {
   "cell_type": "markdown",
   "metadata": {},
   "source": [
    "An alternative way is to use together `ORDER BY` and `LIMIT`. However, the two queries can sometimes give a different result. Can you think when this may happen?\n",
    "\n",
    "> When two Countries have the same max value, only one will be selected\n"
   ]
  },
  {
   "cell_type": "code",
   "execution_count": 7,
   "metadata": {},
   "outputs": [
    {
     "name": "stdout",
     "output_type": "stream",
     "text": [
      " * sqlite:///world-db\n",
      "Done.\n"
     ]
    },
    {
     "data": {
      "text/html": [
       "<table>\n",
       "    <tr>\n",
       "        <th>Name</th>\n",
       "        <th>Population</th>\n",
       "    </tr>\n",
       "    <tr>\n",
       "        <td>Russian Federation</td>\n",
       "        <td>146934000</td>\n",
       "    </tr>\n",
       "</table>"
      ],
      "text/plain": [
       "[('Russian Federation', 146934000)]"
      ]
     },
     "execution_count": 7,
     "metadata": {},
     "output_type": "execute_result"
    }
   ],
   "source": [
    "%%sql\n",
    "SELECT Name, Population\n",
    "FROM Country\n",
    "WHERE Continent = 'Europe'\n",
    "ORDER BY Population DESC\n",
    "LIMIT 1 ;"
   ]
  },
  {
   "cell_type": "markdown",
   "metadata": {},
   "source": [
    "We will see next how to use `GROUP BY`. The following SQL query computes the number of countries in every continent."
   ]
  },
  {
   "cell_type": "code",
   "execution_count": 11,
   "metadata": {},
   "outputs": [
    {
     "name": "stdout",
     "output_type": "stream",
     "text": [
      " * sqlite:///world-db\n",
      "Done.\n"
     ]
    },
    {
     "data": {
      "text/html": [
       "<table>\n",
       "    <tr>\n",
       "        <th>Continent</th>\n",
       "        <th>SUM(Population)</th>\n",
       "        <th>COUNT(*)</th>\n",
       "    </tr>\n",
       "    <tr>\n",
       "        <td>Africa</td>\n",
       "        <td>784475000</td>\n",
       "        <td>58</td>\n",
       "    </tr>\n",
       "    <tr>\n",
       "        <td>Antarctica</td>\n",
       "        <td>0</td>\n",
       "        <td>5</td>\n",
       "    </tr>\n",
       "    <tr>\n",
       "        <td>Asia</td>\n",
       "        <td>3705025700</td>\n",
       "        <td>51</td>\n",
       "    </tr>\n",
       "    <tr>\n",
       "        <td>Europe</td>\n",
       "        <td>730074600</td>\n",
       "        <td>46</td>\n",
       "    </tr>\n",
       "    <tr>\n",
       "        <td>North America</td>\n",
       "        <td>482993000</td>\n",
       "        <td>37</td>\n",
       "    </tr>\n",
       "    <tr>\n",
       "        <td>Oceania</td>\n",
       "        <td>30401150</td>\n",
       "        <td>28</td>\n",
       "    </tr>\n",
       "    <tr>\n",
       "        <td>South America</td>\n",
       "        <td>345780000</td>\n",
       "        <td>14</td>\n",
       "    </tr>\n",
       "</table>"
      ],
      "text/plain": [
       "[('Africa', 784475000, 58),\n",
       " ('Antarctica', 0, 5),\n",
       " ('Asia', 3705025700, 51),\n",
       " ('Europe', 730074600, 46),\n",
       " ('North America', 482993000, 37),\n",
       " ('Oceania', 30401150, 28),\n",
       " ('South America', 345780000, 14)]"
      ]
     },
     "execution_count": 11,
     "metadata": {},
     "output_type": "execute_result"
    }
   ],
   "source": [
    "%%sql\n",
    "SELECT Continent, SUM(Population), COUNT(*) \n",
    "FROM Country \n",
    "GROUP BY Continent"
   ]
  },
  {
   "cell_type": "markdown",
   "metadata": {},
   "source": [
    "We can combine `GROUP BY` with `ORDER BY` as well. The following SQL query finds out how many countries speak each language with percentage > 50% in decreasing order."
   ]
  },
  {
   "cell_type": "code",
   "execution_count": null,
   "metadata": {},
   "outputs": [],
   "source": [
    "%%sql\n",
    "SELECT Language, COUNT(CountryCode) as N\n",
    "FROM CountryLanguage\n",
    "WHERE Percentage >= 50\n",
    "GROUP BY Language\n",
    "ORDER BY N DESC ;"
   ]
  },
  {
   "cell_type": "markdown",
   "metadata": {},
   "source": [
    "The `HAVING` clause allows us to express conditions over properties of *groups*, and not only individual tuples. `HAVING` always follows a `GROUP BY`. As an example, the following SQL query finds out the languages that are spoken in at least 3 different countries with percentage at least 50."
   ]
  },
  {
   "cell_type": "code",
   "execution_count": 21,
   "metadata": {},
   "outputs": [
    {
     "name": "stdout",
     "output_type": "stream",
     "text": [
      " * sqlite:///world-db\n",
      "Done.\n"
     ]
    },
    {
     "data": {
      "text/html": [
       "<table>\n",
       "    <tr>\n",
       "        <th>CountryCode</th>\n",
       "        <th>Language</th>\n",
       "        <th>IsOfficial</th>\n",
       "        <th>Percentage</th>\n",
       "    </tr>\n",
       "    <tr>\n",
       "        <td>ABW</td>\n",
       "        <td>Dutch</td>\n",
       "        <td>T</td>\n",
       "        <td>5.3</td>\n",
       "    </tr>\n",
       "    <tr>\n",
       "        <td>ABW</td>\n",
       "        <td>English</td>\n",
       "        <td>F</td>\n",
       "        <td>9.5</td>\n",
       "    </tr>\n",
       "    <tr>\n",
       "        <td>ABW</td>\n",
       "        <td>Papiamento</td>\n",
       "        <td>F</td>\n",
       "        <td>76.7</td>\n",
       "    </tr>\n",
       "    <tr>\n",
       "        <td>ABW</td>\n",
       "        <td>Spanish</td>\n",
       "        <td>F</td>\n",
       "        <td>7.4</td>\n",
       "    </tr>\n",
       "    <tr>\n",
       "        <td>AFG</td>\n",
       "        <td>Balochi</td>\n",
       "        <td>F</td>\n",
       "        <td>0.9</td>\n",
       "    </tr>\n",
       "</table>"
      ],
      "text/plain": [
       "[('ABW', 'Dutch', 'T', 5.3),\n",
       " ('ABW', 'English', 'F', 9.5),\n",
       " ('ABW', 'Papiamento', 'F', 76.7),\n",
       " ('ABW', 'Spanish', 'F', 7.4),\n",
       " ('AFG', 'Balochi', 'F', 0.9)]"
      ]
     },
     "execution_count": 21,
     "metadata": {},
     "output_type": "execute_result"
    }
   ],
   "source": [
    "%%sql\n",
    "SELECT *\n",
    "FROM CountryLanguage\n",
    "LIMIT 5"
   ]
  },
  {
   "cell_type": "code",
   "execution_count": 41,
   "metadata": {},
   "outputs": [
    {
     "name": "stdout",
     "output_type": "stream",
     "text": [
      " * sqlite:///world-db\n",
      "Done.\n"
     ]
    },
    {
     "data": {
      "text/html": [
       "<table>\n",
       "    <tr>\n",
       "        <th>Language</th>\n",
       "        <th>N</th>\n",
       "    </tr>\n",
       "    <tr>\n",
       "        <td>Arabic</td>\n",
       "        <td>16</td>\n",
       "    </tr>\n",
       "    <tr>\n",
       "        <td>Creole English</td>\n",
       "        <td>8</td>\n",
       "    </tr>\n",
       "    <tr>\n",
       "        <td>Creole French</td>\n",
       "        <td>6</td>\n",
       "    </tr>\n",
       "    <tr>\n",
       "        <td>English</td>\n",
       "        <td>11</td>\n",
       "    </tr>\n",
       "    <tr>\n",
       "        <td>German</td>\n",
       "        <td>4</td>\n",
       "    </tr>\n",
       "    <tr>\n",
       "        <td>Serbo-Croatian</td>\n",
       "        <td>3</td>\n",
       "    </tr>\n",
       "    <tr>\n",
       "        <td>Spanish</td>\n",
       "        <td>20</td>\n",
       "    </tr>\n",
       "</table>"
      ],
      "text/plain": [
       "[('Arabic', 16),\n",
       " ('Creole English', 8),\n",
       " ('Creole French', 6),\n",
       " ('English', 11),\n",
       " ('German', 4),\n",
       " ('Serbo-Croatian', 3),\n",
       " ('Spanish', 20)]"
      ]
     },
     "execution_count": 41,
     "metadata": {},
     "output_type": "execute_result"
    }
   ],
   "source": [
    "%%sql\n",
    "SELECT Language, COUNT(CountryCode) as N\n",
    "FROM CountryLanguage\n",
    "WHERE Percentage >= 50 \n",
    "GROUP BY Language\n",
    "HAVING N > 2 "
   ]
  },
  {
   "cell_type": "markdown",
   "metadata": {},
   "source": [
    "## Example of a Country"
   ]
  },
  {
   "cell_type": "code",
   "execution_count": 42,
   "metadata": {},
   "outputs": [
    {
     "name": "stdout",
     "output_type": "stream",
     "text": [
      " * sqlite:///world-db\n",
      "Done.\n"
     ]
    },
    {
     "data": {
      "text/html": [
       "<table>\n",
       "    <tr>\n",
       "        <th>Code</th>\n",
       "        <th>Name</th>\n",
       "        <th>Continent</th>\n",
       "        <th>Region</th>\n",
       "        <th>SurfaceArea</th>\n",
       "        <th>IndepYear</th>\n",
       "        <th>Population</th>\n",
       "        <th>LifeExpectancy</th>\n",
       "        <th>GNP</th>\n",
       "        <th>GNPOld</th>\n",
       "        <th>LocalName</th>\n",
       "        <th>GovernmentForm</th>\n",
       "        <th>HeadOfState</th>\n",
       "        <th>Capital</th>\n",
       "        <th>Code2</th>\n",
       "    </tr>\n",
       "    <tr>\n",
       "        <td>ABW</td>\n",
       "        <td>Aruba</td>\n",
       "        <td>North America</td>\n",
       "        <td>Caribbean</td>\n",
       "        <td>193.0</td>\n",
       "        <td>None</td>\n",
       "        <td>103000</td>\n",
       "        <td>78.4</td>\n",
       "        <td>828.0</td>\n",
       "        <td>793.0</td>\n",
       "        <td>Aruba</td>\n",
       "        <td>Nonmetropolitan Territory of The Netherlands</td>\n",
       "        <td>Beatrix</td>\n",
       "        <td>129</td>\n",
       "        <td>AW</td>\n",
       "    </tr>\n",
       "</table>"
      ],
      "text/plain": [
       "[('ABW', 'Aruba', 'North America', 'Caribbean', 193.0, None, 103000, 78.4, 828.0, 793.0, 'Aruba', 'Nonmetropolitan Territory of The Netherlands', 'Beatrix', 129, 'AW')]"
      ]
     },
     "execution_count": 42,
     "metadata": {},
     "output_type": "execute_result"
    }
   ],
   "source": [
    "%%sql \n",
    "SELECT *\n",
    "FROM Country\n",
    "Limit 1"
   ]
  },
  {
   "cell_type": "markdown",
   "metadata": {},
   "source": [
    "## Example of a City"
   ]
  },
  {
   "cell_type": "code",
   "execution_count": 28,
   "metadata": {},
   "outputs": [
    {
     "name": "stdout",
     "output_type": "stream",
     "text": [
      " * sqlite:///world-db\n",
      "Done.\n"
     ]
    },
    {
     "data": {
      "text/html": [
       "<table>\n",
       "    <tr>\n",
       "        <th>ID</th>\n",
       "        <th>Name</th>\n",
       "        <th>CountryCode</th>\n",
       "        <th>District</th>\n",
       "        <th>Population</th>\n",
       "    </tr>\n",
       "    <tr>\n",
       "        <td>1</td>\n",
       "        <td>Kabul</td>\n",
       "        <td>AFG</td>\n",
       "        <td>Kabol</td>\n",
       "        <td>1780000</td>\n",
       "    </tr>\n",
       "</table>"
      ],
      "text/plain": [
       "[(1, 'Kabul', 'AFG', 'Kabol', 1780000)]"
      ]
     },
     "execution_count": 28,
     "metadata": {},
     "output_type": "execute_result"
    }
   ],
   "source": [
    "%%sql \n",
    "SELECT *\n",
    "FROM City\n",
    "Limit 1"
   ]
  },
  {
   "cell_type": "markdown",
   "metadata": {},
   "source": [
    "**Exercise #1**: Write a query that outputs for each country the population of the most populated city, for countries with at least 10 cities."
   ]
  },
  {
   "cell_type": "code",
   "execution_count": 61,
   "metadata": {},
   "outputs": [
    {
     "name": "stdout",
     "output_type": "stream",
     "text": [
      " * sqlite:///world-db\n",
      "Done.\n"
     ]
    },
    {
     "data": {
      "text/html": [
       "<table>\n",
       "    <tr>\n",
       "        <th>Name</th>\n",
       "        <th>N</th>\n",
       "    </tr>\n",
       "    <tr>\n",
       "        <td>India</td>\n",
       "        <td>10500000</td>\n",
       "    </tr>\n",
       "    <tr>\n",
       "        <td>Brazil</td>\n",
       "        <td>9968485</td>\n",
       "    </tr>\n",
       "    <tr>\n",
       "        <td>China</td>\n",
       "        <td>9696300</td>\n",
       "    </tr>\n",
       "    <tr>\n",
       "        <td>Mexico</td>\n",
       "        <td>8591309</td>\n",
       "    </tr>\n",
       "    <tr>\n",
       "        <td>Russian Federation</td>\n",
       "        <td>8389200</td>\n",
       "    </tr>\n",
       "    <tr>\n",
       "        <td>United States</td>\n",
       "        <td>8008278</td>\n",
       "    </tr>\n",
       "    <tr>\n",
       "        <td>Japan</td>\n",
       "        <td>7980230</td>\n",
       "    </tr>\n",
       "    <tr>\n",
       "        <td>Philippines</td>\n",
       "        <td>2173831</td>\n",
       "    </tr>\n",
       "</table>"
      ],
      "text/plain": [
       "[('India', 10500000),\n",
       " ('Brazil', 9968485),\n",
       " ('China', 9696300),\n",
       " ('Mexico', 8591309),\n",
       " ('Russian Federation', 8389200),\n",
       " ('United States', 8008278),\n",
       " ('Japan', 7980230),\n",
       " ('Philippines', 2173831)]"
      ]
     },
     "execution_count": 61,
     "metadata": {},
     "output_type": "execute_result"
    }
   ],
   "source": [
    "%%sql\n",
    "SELECT C.Name, MAX(T.Population) as N\n",
    "FROM City T, Country C\n",
    "WHERE T.CountryCode = C.Code\n",
    "GROUP BY C.Name\n",
    "HAVING COUNT(T.ID) >= 100\n",
    "ORDER BY N DESC"
   ]
  },
  {
   "cell_type": "markdown",
   "metadata": {},
   "source": [
    "Let's see how the use of `HAVING` compares with the use of correlated queries. Suppose that we want to find the names of the countries that have more than 10 cities with population at least 1 million. Here is a nested query that computes that: "
   ]
  },
  {
   "cell_type": "code",
   "execution_count": 22,
   "metadata": {},
   "outputs": [
    {
     "name": "stdout",
     "output_type": "stream",
     "text": [
      " * sqlite:///world-db\n",
      "Done.\n"
     ]
    },
    {
     "data": {
      "text/html": [
       "<table>\n",
       "    <tr>\n",
       "        <th>Name</th>\n",
       "    </tr>\n",
       "    <tr>\n",
       "        <td>Brazil</td>\n",
       "    </tr>\n",
       "    <tr>\n",
       "        <td>China</td>\n",
       "    </tr>\n",
       "    <tr>\n",
       "        <td>India</td>\n",
       "    </tr>\n",
       "    <tr>\n",
       "        <td>Japan</td>\n",
       "    </tr>\n",
       "    <tr>\n",
       "        <td>Russian Federation</td>\n",
       "    </tr>\n",
       "</table>"
      ],
      "text/plain": [
       "[('Brazil',), ('China',), ('India',), ('Japan',), ('Russian Federation',)]"
      ]
     },
     "execution_count": 22,
     "metadata": {},
     "output_type": "execute_result"
    }
   ],
   "source": [
    "%%sql\n",
    "SELECT C.name\n",
    "FROM Country C\n",
    "WHERE (SELECT COUNT(*) \n",
    "       FROM City\n",
    "       WHERE City.CountryCode=C.Code\n",
    "       AND City.Population >= 1000000) > 10; "
   ]
  },
  {
   "cell_type": "markdown",
   "metadata": {},
   "source": [
    "We can measure the execution time of the query using `%time`."
   ]
  },
  {
   "cell_type": "code",
   "execution_count": null,
   "metadata": {},
   "outputs": [],
   "source": [
    "%time %sql SELECT C.name FROM Country C WHERE (SELECT COUNT(*) FROM City WHERE City.CountryCode=C.Code AND City.Population >= 1000000) > 10; "
   ]
  },
  {
   "cell_type": "markdown",
   "metadata": {},
   "source": [
    "**Exercise #2**: Write the above query using `HAVING` and time its execution. How much faster does it run?"
   ]
  },
  {
   "cell_type": "code",
   "execution_count": null,
   "metadata": {},
   "outputs": [],
   "source": []
  }
 ],
 "metadata": {
  "interpreter": {
   "hash": "63fd5069d213b44bf678585dea6b12cceca9941eaf7f819626cde1f2670de90d"
  },
  "kernelspec": {
   "display_name": "Python 3.9.5 64-bit",
   "name": "python3"
  },
  "language_info": {
   "codemirror_mode": {
    "name": "ipython",
    "version": 3
   },
   "file_extension": ".py",
   "mimetype": "text/x-python",
   "name": "python",
   "nbconvert_exporter": "python",
   "pygments_lexer": "ipython3",
   "version": "3.9.5"
  }
 },
 "nbformat": 4,
 "nbformat_minor": 1
}
